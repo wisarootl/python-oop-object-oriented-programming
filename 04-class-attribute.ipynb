{
 "cells": [
  {
   "cell_type": "markdown",
   "metadata": {},
   "source": [
    "Class Attributes\n",
    "- They belong to the class.\n",
    "- There is only one copy of each class attribute.\n",
    "- Changing their value affects all instances since they all take the value from the same source.\n",
    "\n",
    "Instance Attributes\n",
    "- They belong to the instances.\n",
    "- Each instance has a separate copy of each instance attribute.\n",
    "- Changing their value only affects a particular instance and the others remain unchanged."
   ]
  },
  {
   "cell_type": "code",
   "execution_count": 3,
   "metadata": {},
   "outputs": [
    {
     "name": "stdout",
     "output_type": "stream",
     "text": [
      "Canis lupus\n"
     ]
    }
   ],
   "source": [
    "class Dog:\n",
    "\n",
    "  # class attributes\n",
    "  species = \"Canis lupus\"\n",
    "\n",
    "  def __init__(self, name, age, breed):\n",
    "    self.name = name\n",
    "    self.age = age\n",
    "    self.breed = breed\n",
    "\n",
    "\n",
    "print(Dog.species)"
   ]
  },
  {
   "cell_type": "code",
   "execution_count": 8,
   "metadata": {},
   "outputs": [
    {
     "name": "stdout",
     "output_type": "stream",
     "text": [
      "10\n",
      "10\n",
      "10\n"
     ]
    }
   ],
   "source": [
    "class Backpack:\n",
    "\n",
    "  max_num_items = 10\n",
    "\n",
    "  def __init__(self):\n",
    "    self.items = []\n",
    "\n",
    "my_backpack = Backpack()\n",
    "your_backpack = Backpack()\n",
    "\n",
    "print(my_backpack.max_num_items)\n",
    "print(your_backpack.max_num_items)\n",
    "print(Backpack.max_num_items)"
   ]
  },
  {
   "cell_type": "code",
   "execution_count": 9,
   "metadata": {},
   "outputs": [
    {
     "name": "stdout",
     "output_type": "stream",
     "text": [
      "1\n",
      "2\n"
     ]
    }
   ],
   "source": [
    "class Movie:\n",
    "\n",
    "  id_counter = 1\n",
    "\n",
    "  def __init__(self, title, year):\n",
    "    self.id = Movie.id_counter\n",
    "    Movie.id_counter += 1\n",
    "\n",
    "    self.title = title\n",
    "    self.year = year\n",
    "\n",
    "my_movie = Movie(\"Sense and Sensibility\", 4.5)\n",
    "your_movie = Movie(\"Legends of the Fall\", 4.7)\n",
    "\n",
    "print(my_movie.id)\n",
    "print(your_movie.id)"
   ]
  },
  {
   "cell_type": "code",
   "execution_count": 12,
   "metadata": {},
   "outputs": [
    {
     "name": "stdout",
     "output_type": "stream",
     "text": [
      "12.99\n",
      "12.99\n",
      "13.99\n",
      "13.99\n"
     ]
    }
   ],
   "source": [
    "class Pizza:\n",
    "\n",
    "  price = 12.99\n",
    "\n",
    "  def __init__(self, description, toppings, crust):\n",
    "    self.description = description\n",
    "    self.toppings = toppings\n",
    "    self.crust = crust\n",
    "\n",
    "print(Pizza.price)\n",
    "\n",
    "my_pizza = Pizza(\"Margherita\", [\"Basil\", \"Mushrooms\"], \"New York Style\")\n",
    "\n",
    "print(my_pizza.price)\n",
    "\n",
    "Pizza.price = 13.99\n",
    "\n",
    "print(Pizza.price)\n",
    "print(my_pizza.price)"
   ]
  },
  {
   "cell_type": "code",
   "execution_count": 13,
   "metadata": {},
   "outputs": [
    {
     "name": "stdout",
     "output_type": "stream",
     "text": [
      "\n",
      "========= Welcome to our Payroll System =========\n",
      "\n",
      "Jack's salary is: $8833.33\n",
      "Isabel's salary is: $8833.33\n",
      "Nora's salary is: $4366.67\n",
      "\n",
      "The total payroll this month will be: $ 22033.33\n"
     ]
    }
   ],
   "source": [
    "# Classes ==================================================================\n",
    "\n",
    "class Programmer:\n",
    "    \n",
    "    salary = 100000\n",
    "    monthly_bonus = 500\n",
    "    \n",
    "    def __init__(self, name, age, address, phone, programming_languages):\n",
    "        self.name = name\n",
    "        self.age = age\n",
    "        self.address = address\n",
    "        self.phone = phone\n",
    "        self.programming_languages = programming_languages\n",
    "\n",
    "class Assistant:\n",
    "    \n",
    "    salary = 50000\n",
    "    monthly_bonus = 200\n",
    "    \n",
    "    def __init__(self, name, age, address, phone, bilingual):\n",
    "        self.name = name\n",
    "        self.age = age\n",
    "        self.address = address\n",
    "        self.phone = phone\n",
    "        self.bilingual = bilingual\n",
    "\n",
    "# Program ==================================================================\n",
    "\n",
    "# Function that prints the monthly salary of each worker\n",
    "# and the total amount that the startup owner has to pay per month\n",
    "def calculate_payroll(employees):\n",
    "\n",
    "    total = 0\n",
    "\n",
    "    print(\"\\n========= Welcome to our Payroll System =========\\n\")\n",
    "\n",
    "    # Iterate over the list of instances to calculate\n",
    "    # and display the monthly salary of each employee,\n",
    "    # and add the monthly salary to the total for this month\n",
    "    for employee in employees:\n",
    "        salary = round(employee.salary / 12, 2) + employee.monthly_bonus\n",
    "        print(employee.name.capitalize() + \"'s salary is: $\" + str(salary))\n",
    "        total += salary\n",
    "\n",
    "    # Display the total \n",
    "    print(\"\\nThe total payroll this month will be: $\", total)\n",
    "\n",
    "# Instances (employees)\n",
    "jack = Programmer(\"Jack\", 45, \"5th Avenue\", \"555-563-345\", [\"Python\", \"Java\"])\n",
    "isabel = Programmer(\"Isabel\", 25, \"6th Avenue\", \"234-245-853\", [\"JavaScript\"])\n",
    "nora = Assistant(\"Nora\", 23, \"7th Avenue\", \"562-577-333\", True)\n",
    "\n",
    "# List of instances\n",
    "employees = [jack, isabel, nora]\n",
    "\n",
    "# Function call - Passing the list of instances as argument\n",
    "calculate_payroll(employees)"
   ]
  }
 ],
 "metadata": {
  "kernelspec": {
   "display_name": "Python 3.10.5 64-bit (windows store)",
   "language": "python",
   "name": "python3"
  },
  "language_info": {
   "codemirror_mode": {
    "name": "ipython",
    "version": 3
   },
   "file_extension": ".py",
   "mimetype": "text/x-python",
   "name": "python",
   "nbconvert_exporter": "python",
   "pygments_lexer": "ipython3",
   "version": "3.10.5"
  },
  "orig_nbformat": 4,
  "vscode": {
   "interpreter": {
    "hash": "3822405be9f5fb329f7270cbdcf73e762c62b3f383c5e71390a1a4648678c1cb"
   }
  }
 },
 "nbformat": 4,
 "nbformat_minor": 2
}
