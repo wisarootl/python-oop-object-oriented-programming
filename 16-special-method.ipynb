{
 "cells": [
  {
   "cell_type": "markdown",
   "metadata": {},
   "source": [
    "# Special Method\n",
    "- Special Method == Magic Method\n",
    "- Special Method == Dunder Method (double underscore)\n",
    "\n",
    "`5 + 6` => `__add__()` => `(5)__add__(6)`"
   ]
  },
  {
   "cell_type": "code",
   "execution_count": 1,
   "metadata": {},
   "outputs": [
    {
     "name": "stdout",
     "output_type": "stream",
     "text": [
      "11\n",
      "11\n"
     ]
    }
   ],
   "source": [
    "result = 5 + 6\n",
    "print(result) \n",
    "\n",
    "result = (5).__add__(6)\n",
    "print(result) \n"
   ]
  },
  {
   "cell_type": "markdown",
   "metadata": {},
   "source": [
    "## `__str__`"
   ]
  },
  {
   "cell_type": "markdown",
   "metadata": {},
   "source": [
    "`print(obj)` => `__str__()`"
   ]
  },
  {
   "cell_type": "code",
   "execution_count": 2,
   "metadata": {},
   "outputs": [
    {
     "name": "stdout",
     "output_type": "stream",
     "text": [
      "(56, 60)\n"
     ]
    }
   ],
   "source": [
    "# Example: Point2D\n",
    "\n",
    "class Point2D:\n",
    "\n",
    "    def __init__(self, x, y):\n",
    "        self.x = x\n",
    "        self.y = y\n",
    "\n",
    "    def __str__(self):\n",
    "        return f\"({self.x}, {self.y})\"\n",
    "\n",
    "\n",
    "my_point = Point2D(56, 60)\n",
    "print(my_point)\n"
   ]
  },
  {
   "cell_type": "code",
   "execution_count": 3,
   "metadata": {},
   "outputs": [
    {
     "name": "stdout",
     "output_type": "stream",
     "text": [
      "Student: Nora Nav | Student ID: 42AB9 | Age: 34 | GPA: 3.76\n"
     ]
    }
   ],
   "source": [
    "# Example: Student\n",
    "\n",
    "class Student:\n",
    "\n",
    "    def __init__(self, student_id, name, age, gpa):\n",
    "        self.student_id = student_id\n",
    "        self.name = name\n",
    "        self.age = age\n",
    "        self.gpa = gpa\n",
    "\n",
    "    def __str__(self):\n",
    "        return f\"Student: {self.name} \" \\\n",
    "               f\"| Student ID: {self.student_id} \" \\\n",
    "               f\"| Age: {self.age} \" \\\n",
    "               f\"| GPA: {self.gpa}\"\n",
    "\n",
    "\n",
    "student = Student(\"42AB9\", \"Nora Nav\", 34, 3.76)\n",
    "print(student)"
   ]
  },
  {
   "cell_type": "markdown",
   "metadata": {},
   "source": [
    "- `__str__`\n",
    "  - Used to provide an **informal** representation of the object meant for the final users.\n",
    "  - Favores **readability** (for human)  over details or precision.\n",
    "  - Called by the `str()`, `format()`, and `print()` built-in functions.\n",
    "\n",
    "- `__repr__`\n",
    "  - Used to provide a **formal** representation of the object meant for developers.\n",
    "  - They are used for **debugging** (for machine).\n",
    "  - Called by the `repr()` built-in function."
   ]
  },
  {
   "cell_type": "markdown",
   "metadata": {},
   "source": [
    "## `__len__`"
   ]
  },
  {
   "cell_type": "markdown",
   "metadata": {},
   "source": [
    "`len(obj)` => `__len__()`"
   ]
  },
  {
   "cell_type": "code",
   "execution_count": 4,
   "metadata": {},
   "outputs": [
    {
     "name": "stdout",
     "output_type": "stream",
     "text": [
      "13\n",
      "13\n"
     ]
    }
   ],
   "source": [
    "# Example: Length of Built-in Data Types\n",
    "\n",
    "my_string = \"Hello, World!\"\n",
    "print(len(my_string))\n",
    "print(my_string.__len__())"
   ]
  },
  {
   "cell_type": "code",
   "execution_count": 5,
   "metadata": {},
   "outputs": [
    {
     "name": "stdout",
     "output_type": "stream",
     "text": [
      "5\n",
      "5\n"
     ]
    }
   ],
   "source": [
    "my_list = [1, 2, 3, 4, 5]\n",
    "print(len(my_list))\n",
    "print(my_list.__len__())"
   ]
  },
  {
   "cell_type": "code",
   "execution_count": 6,
   "metadata": {},
   "outputs": [
    {
     "name": "stdout",
     "output_type": "stream",
     "text": [
      "5\n",
      "5\n"
     ]
    }
   ],
   "source": [
    "my_tuple = (1, 2, 3, 4, 5)\n",
    "print(len(my_tuple))\n",
    "print(my_tuple.__len__())"
   ]
  },
  {
   "cell_type": "code",
   "execution_count": 7,
   "metadata": {},
   "outputs": [
    {
     "name": "stdout",
     "output_type": "stream",
     "text": [
      "3\n",
      "3\n"
     ]
    }
   ],
   "source": [
    "my_dict = {\"a\": 1, \"b\": 2, \"c\": 3}\n",
    "print(len(my_dict))\n",
    "print(my_dict.__len__())"
   ]
  },
  {
   "cell_type": "code",
   "execution_count": 8,
   "metadata": {},
   "outputs": [],
   "source": [
    "class Backpack:\n",
    "\n",
    "    def __init__(self):\n",
    "        self.items = []\n",
    "\n",
    "    def add_item(self, item):\n",
    "        self.items.append(item)\n",
    "\n",
    "    def remove_item(self, item):\n",
    "        if item in self.items:\n",
    "            self.items.remove(item)\n",
    "        else:\n",
    "            print(\"This item is not in the backpack\")\n",
    "\n",
    "    def __len__(self):\n",
    "        return len(self.items)\n",
    "\n",
    "\n",
    "my_backpack = Backpack()"
   ]
  },
  {
   "cell_type": "code",
   "execution_count": 9,
   "metadata": {},
   "outputs": [
    {
     "name": "stdout",
     "output_type": "stream",
     "text": [
      "3\n"
     ]
    }
   ],
   "source": [
    "my_backpack.add_item(\"Water Bottle\")\n",
    "my_backpack.add_item(\"First Aid Kit\")\n",
    "my_backpack.add_item(\"Sleeping Bag\")\n",
    "\n",
    "print(len(my_backpack))"
   ]
  },
  {
   "cell_type": "code",
   "execution_count": 10,
   "metadata": {},
   "outputs": [
    {
     "name": "stdout",
     "output_type": "stream",
     "text": [
      "2\n"
     ]
    }
   ],
   "source": [
    "my_backpack.remove_item(\"Sleeping Bag\")\n",
    "print(len(my_backpack))"
   ]
  },
  {
   "cell_type": "code",
   "execution_count": 11,
   "metadata": {},
   "outputs": [
    {
     "name": "stdout",
     "output_type": "stream",
     "text": [
      "0\n"
     ]
    }
   ],
   "source": [
    "my_backpack.remove_item(\"Water Bottle\")\n",
    "my_backpack.remove_item(\"First Aid Kit\")\n",
    "print(len(my_backpack))"
   ]
  },
  {
   "cell_type": "code",
   "execution_count": 12,
   "metadata": {},
   "outputs": [
    {
     "name": "stdout",
     "output_type": "stream",
     "text": [
      "This item is not in the backpack\n"
     ]
    }
   ],
   "source": [
    "my_backpack.remove_item(\"Water Bottle\")"
   ]
  },
  {
   "cell_type": "markdown",
   "metadata": {},
   "source": [
    "# `__add__`"
   ]
  },
  {
   "cell_type": "markdown",
   "metadata": {},
   "source": [
    "- `5 + 6` => `(5)__add__(6)`\n",
    "- `5 - 6` => `(5)__sub__(6)`\n",
    "- `5 * 6` => `(5)__mul__(6)`\n",
    "- `5 / 6` => `(5)__truediv__(6)`\n",
    "- `5 // 6` => `(5)__floordiv__(6)`\n",
    "- [more...](https://documentation.help/Python-PEP/numeric-types.html)\n",
    "- operator overloading is custom define operation (custom `__add__`)"
   ]
  },
  {
   "cell_type": "code",
   "execution_count": 13,
   "metadata": {},
   "outputs": [
    {
     "name": "stdout",
     "output_type": "stream",
     "text": [
      "7\n",
      "7\n"
     ]
    }
   ],
   "source": [
    "print(3 + 4)\n",
    "print((3).__add__(4))"
   ]
  },
  {
   "cell_type": "code",
   "execution_count": 14,
   "metadata": {},
   "outputs": [
    {
     "name": "stdout",
     "output_type": "stream",
     "text": [
      "Hello World!\n",
      "Hello World!\n"
     ]
    }
   ],
   "source": [
    "print(\"Hello \" + \"World!\")\n",
    "print(\"Hello \".__add__(\"World!\"))"
   ]
  },
  {
   "cell_type": "code",
   "execution_count": 15,
   "metadata": {},
   "outputs": [
    {
     "name": "stdout",
     "output_type": "stream",
     "text": [
      "[1, 2, 3, 4, 5, 6]\n",
      "[1, 2, 3, 4, 5, 6]\n"
     ]
    }
   ],
   "source": [
    "print([1, 2, 3] + [4, 5, 6])\n",
    "print([1, 2, 3].__add__([4, 5, 6]))"
   ]
  },
  {
   "cell_type": "code",
   "execution_count": 16,
   "metadata": {},
   "outputs": [],
   "source": [
    "class Point2D:\n",
    "\n",
    "    def __init__(self, x, y):\n",
    "        self.x = x\n",
    "        self.y = y\n",
    "\n",
    "    def __add__(self, other):\n",
    "        new_x = self.x + other.x\n",
    "        new_y = self.y + other.y\n",
    "        return Point2D(new_x, new_y)\n",
    "\n",
    "    def __str__(self):\n",
    "        return f\"({self.x}, {self.y})\""
   ]
  },
  {
   "cell_type": "code",
   "execution_count": 17,
   "metadata": {},
   "outputs": [
    {
     "name": "stdout",
     "output_type": "stream",
     "text": [
      "(5, 6)\n"
     ]
    }
   ],
   "source": [
    "pointA = Point2D(5, 6)\n",
    "print(pointA)"
   ]
  },
  {
   "cell_type": "code",
   "execution_count": 18,
   "metadata": {},
   "outputs": [
    {
     "name": "stdout",
     "output_type": "stream",
     "text": [
      "(2, 3)\n"
     ]
    }
   ],
   "source": [
    "pointB = Point2D(2, 3)\n",
    "print(pointB)"
   ]
  },
  {
   "cell_type": "code",
   "execution_count": 19,
   "metadata": {},
   "outputs": [
    {
     "name": "stdout",
     "output_type": "stream",
     "text": [
      "(7, 9)\n"
     ]
    }
   ],
   "source": [
    "pointC = pointA + pointB\n",
    "print(pointC) "
   ]
  },
  {
   "cell_type": "markdown",
   "metadata": {},
   "source": [
    "## `__getitem__`"
   ]
  },
  {
   "cell_type": "markdown",
   "metadata": {},
   "source": [
    "`obj[idx]` => `obj.__getitem__(idx)`"
   ]
  },
  {
   "cell_type": "code",
   "execution_count": 20,
   "metadata": {},
   "outputs": [
    {
     "name": "stdout",
     "output_type": "stream",
     "text": [
      "a\n",
      "b\n",
      "c\n",
      "d\n"
     ]
    }
   ],
   "source": [
    "my_list = [\"a\", \"b\", \"c\", \"d\"]\n",
    "\n",
    "print(my_list[0])\n",
    "print(my_list[1])\n",
    "print(my_list[2])\n",
    "print(my_list[3])"
   ]
  },
  {
   "cell_type": "code",
   "execution_count": 21,
   "metadata": {},
   "outputs": [
    {
     "name": "stdout",
     "output_type": "stream",
     "text": [
      "a\n",
      "b\n",
      "c\n",
      "d\n"
     ]
    }
   ],
   "source": [
    "print(my_list.__getitem__(0))\n",
    "print(my_list.__getitem__(1))\n",
    "print(my_list.__getitem__(2))\n",
    "print(my_list.__getitem__(3))"
   ]
  },
  {
   "cell_type": "code",
   "execution_count": 22,
   "metadata": {},
   "outputs": [],
   "source": [
    "class Bookshelf:\n",
    "\n",
    "    def __init__(self):\n",
    "        self.content = [[],\n",
    "                        [],\n",
    "                        []]\n",
    "\n",
    "    def add_book(self, book, location):\n",
    "        self.content[location].append(book)\n",
    "\n",
    "    def take_book(self, book, location):\n",
    "        self.content[location].remove(book)\n",
    "\n",
    "    def __getitem__(self, location):\n",
    "        return self.content[location] "
   ]
  },
  {
   "cell_type": "code",
   "execution_count": 23,
   "metadata": {},
   "outputs": [],
   "source": [
    "my_bookshelf = Bookshelf()\n",
    "\n",
    "my_bookshelf.add_book(\"Les Miserables\", 0)\n",
    "my_bookshelf.add_book(\"Pride and Prejudice\", 0)\n",
    "my_bookshelf.add_book(\"Frankenstein\", 0)\n",
    "\n",
    "my_bookshelf.add_book(\"Sense and Sensibility\", 1)\n",
    "my_bookshelf.add_book(\"Jane Eyre\", 1)\n",
    "my_bookshelf.add_book(\"The Little Prince\", 1)\n",
    "\n",
    "my_bookshelf.add_book(\"Moby Dick\", 2)\n",
    "my_bookshelf.add_book(\"The Adventures of Huckleberry Finn\", 2)\n",
    "my_bookshelf.add_book(\"Dracula\", 2)"
   ]
  },
  {
   "cell_type": "code",
   "execution_count": 24,
   "metadata": {},
   "outputs": [
    {
     "name": "stdout",
     "output_type": "stream",
     "text": [
      "['Les Miserables', 'Pride and Prejudice', 'Frankenstein']\n",
      "['Sense and Sensibility', 'Jane Eyre', 'The Little Prince']\n",
      "['Moby Dick', 'The Adventures of Huckleberry Finn', 'Dracula']\n"
     ]
    }
   ],
   "source": [
    "print(my_bookshelf[0])\n",
    "print(my_bookshelf[1])\n",
    "print(my_bookshelf[2])"
   ]
  },
  {
   "cell_type": "code",
   "execution_count": 25,
   "metadata": {},
   "outputs": [
    {
     "name": "stdout",
     "output_type": "stream",
     "text": [
      "['Les Miserables', 'Pride and Prejudice', 'Frankenstein']\n",
      "['Sense and Sensibility', 'Jane Eyre', 'The Little Prince']\n",
      "['Moby Dick', 'The Adventures of Huckleberry Finn', 'Dracula']\n"
     ]
    }
   ],
   "source": [
    "print(my_bookshelf.__getitem__(0))\n",
    "print(my_bookshelf.__getitem__(1))\n",
    "print(my_bookshelf.__getitem__(2))"
   ]
  },
  {
   "cell_type": "markdown",
   "metadata": {},
   "source": [
    "## `__bool__`\n",
    "\n",
    "- `bool()` => `__bool__()`\n",
    "\n",
    "- if we dont have `__bool__()`, `bool()` => `__len__()`\n",
    "\n",
    "if len != 0, `bool()` = `True` else `False`\n",
    "\n",
    "- If a class defines neither `__len__()` nor `__bool__()`, all its instances are considered `True`."
   ]
  },
  {
   "cell_type": "code",
   "execution_count": 31,
   "metadata": {},
   "outputs": [],
   "source": [
    "# class without __bool__\n",
    "# bool will be true by default\n",
    "\n",
    "class BankAccount:\n",
    "\n",
    "    def __init__(self, account_owner, account_number, initial_balance):\n",
    "        self.account_owner = account_owner\n",
    "        self.account_number = account_number\n",
    "        self.balance = initial_balance\n",
    "\n",
    "    def make_deposit(self, amount):\n",
    "        self.balance += amount\n",
    "\n",
    "    def make_withdrawal(self, amount):\n",
    "        if self.balance - amount >= 0:\n",
    "            self.balance -= amount\n",
    "        else:\n",
    "            print(\"Insufficient funds.\")\n"
   ]
  },
  {
   "cell_type": "code",
   "execution_count": 27,
   "metadata": {},
   "outputs": [
    {
     "name": "stdout",
     "output_type": "stream",
     "text": [
      "True\n"
     ]
    }
   ],
   "source": [
    "my_account = BankAccount(\"Nora Nav\", \"356-2456-2455\", 45045.23)\n",
    "print(bool(my_account))"
   ]
  },
  {
   "cell_type": "code",
   "execution_count": 28,
   "metadata": {},
   "outputs": [
    {
     "name": "stdout",
     "output_type": "stream",
     "text": [
      "True\n"
     ]
    }
   ],
   "source": [
    "if my_account:\n",
    "    print(\"True\")\n",
    "else:\n",
    "    print(\"False\")"
   ]
  },
  {
   "cell_type": "code",
   "execution_count": 29,
   "metadata": {},
   "outputs": [
    {
     "name": "stdout",
     "output_type": "stream",
     "text": [
      "True\n",
      "True\n"
     ]
    }
   ],
   "source": [
    "my_account.balance = 0\n",
    "print(bool(my_account))\n",
    "\n",
    "if my_account:\n",
    "    print(\"True\")\n",
    "else:\n",
    "    print(\"False\")"
   ]
  },
  {
   "cell_type": "code",
   "execution_count": 30,
   "metadata": {},
   "outputs": [],
   "source": [
    "class BankAccount:\n",
    "\n",
    "    def __init__(self, account_owner, account_number, initial_balance):\n",
    "        self.account_owner = account_owner\n",
    "        self.account_number = account_number\n",
    "        self.balance = initial_balance\n",
    "\n",
    "    def make_deposit(self, amount):\n",
    "        self.balance += amount\n",
    "\n",
    "    def make_withdrawal(self, amount):\n",
    "        if self.balance - amount >= 0:\n",
    "            self.balance -= amount\n",
    "        else:\n",
    "            print(\"Insufficient funds.\")\n",
    "\n",
    "    def __bool__(self):\n",
    "        return self.balance > 0"
   ]
  },
  {
   "cell_type": "code",
   "execution_count": 32,
   "metadata": {},
   "outputs": [
    {
     "name": "stdout",
     "output_type": "stream",
     "text": [
      "True\n",
      "True\n"
     ]
    }
   ],
   "source": [
    "my_account = BankAccount(\"Nora Nav\", \"356-2456-2455\", 45045.23)\n",
    "print(bool(my_account))\n",
    "\n",
    "if my_account:\n",
    "    print(\"True\")\n",
    "else:\n",
    "    print(\"False\")"
   ]
  },
  {
   "cell_type": "code",
   "execution_count": 33,
   "metadata": {},
   "outputs": [
    {
     "name": "stdout",
     "output_type": "stream",
     "text": [
      "True\n",
      "0\n",
      "True\n"
     ]
    }
   ],
   "source": [
    "my_account.balance = 0\n",
    "print(bool(my_account))\n",
    "print(my_account.balance)\n",
    "\n",
    "if my_account:\n",
    "    print(\"True\")\n",
    "else:\n",
    "    print(\"False\")"
   ]
  },
  {
   "cell_type": "code",
   "execution_count": 34,
   "metadata": {},
   "outputs": [
    {
     "name": "stdout",
     "output_type": "stream",
     "text": [
      "5\n",
      "The list is not empty.\n",
      "True\n"
     ]
    }
   ],
   "source": [
    "my_list = [1, 2, 3, 4, 5]\n",
    "print(len(my_list))\n",
    "\n",
    "if my_list:\n",
    "    print(\"The list is not empty.\")\n",
    "    print(bool(my_list))\n",
    "else:\n",
    "    print(\"The list is empty.\")\n",
    "    print(bool(my_list))"
   ]
  },
  {
   "cell_type": "code",
   "execution_count": 35,
   "metadata": {},
   "outputs": [
    {
     "name": "stdout",
     "output_type": "stream",
     "text": [
      "0\n",
      "The list is empty.\n",
      "False\n"
     ]
    }
   ],
   "source": [
    "# List\n",
    "my_list = []\n",
    "print(len(my_list))\n",
    "\n",
    "if my_list:\n",
    "    print(\"The list is not empty.\")\n",
    "    print(bool(my_list))\n",
    "else:\n",
    "    print(\"The list is empty.\")\n",
    "    print(bool(my_list))"
   ]
  },
  {
   "cell_type": "code",
   "execution_count": 36,
   "metadata": {},
   "outputs": [
    {
     "name": "stdout",
     "output_type": "stream",
     "text": [
      "13\n",
      "The string is not empty.\n",
      "True\n"
     ]
    }
   ],
   "source": [
    "# String\n",
    "my_string = \"Hello, World!\"\n",
    "print(len(my_string))\n",
    "\n",
    "if my_string:\n",
    "    print(\"The string is not empty.\")\n",
    "    print(bool(my_string))\n",
    "else:\n",
    "    print(\"The string is empty.\")\n",
    "    print(bool(my_string))"
   ]
  },
  {
   "cell_type": "code",
   "execution_count": 37,
   "metadata": {},
   "outputs": [
    {
     "name": "stdout",
     "output_type": "stream",
     "text": [
      "0\n",
      "The string is empty.\n",
      "False\n"
     ]
    }
   ],
   "source": [
    "my_string = \"\"\n",
    "print(len(my_string))\n",
    "\n",
    "if my_string:\n",
    "    print(\"The string is not empty.\")\n",
    "    print(bool(my_string))\n",
    "else:\n",
    "    print(\"The string is empty.\")\n",
    "    print(bool(my_string))"
   ]
  },
  {
   "cell_type": "markdown",
   "metadata": {},
   "source": [
    "## rich comparison methods\n",
    "\n",
    "- `__lt__()` <\n",
    "- `__le__()` <=\n",
    "- `__eq__()` ==\n",
    "- `__ne__()` !=\n",
    "- `__gt__()` >\n",
    "- `__ge__()` >="
   ]
  },
  {
   "cell_type": "code",
   "execution_count": 38,
   "metadata": {},
   "outputs": [
    {
     "name": "stdout",
     "output_type": "stream",
     "text": [
      "False\n",
      "False\n",
      "True\n",
      "True\n"
     ]
    }
   ],
   "source": [
    "print(15 <= 8)\n",
    "print(4 > 4)\n",
    "print(5 == 5)\n",
    "print(6 != 8)"
   ]
  },
  {
   "cell_type": "code",
   "execution_count": 42,
   "metadata": {},
   "outputs": [
    {
     "name": "stdout",
     "output_type": "stream",
     "text": [
      "False\n",
      "True\n",
      "True\n"
     ]
    }
   ],
   "source": [
    "# string\n",
    "# compare order of alphabet in dictionary (lexicographical order)\n",
    "\n",
    "print(\"Hello\" < \"World\")\n",
    "print(\"Python\" >= \"Java\")\n",
    "print(\"Hello\" == \"Hello\")"
   ]
  },
  {
   "cell_type": "code",
   "execution_count": null,
   "metadata": {},
   "outputs": [],
   "source": [
    "# list\n",
    "# compare value of element by element\n",
    "\n",
    "print([1, 2, 3, 4] < [1, 2, 3, 5])\n",
    "print([4, 5, 6] > [1, 2, 3, 4])"
   ]
  },
  {
   "cell_type": "code",
   "execution_count": 43,
   "metadata": {},
   "outputs": [],
   "source": [
    "class Circle:\n",
    "\n",
    "    def __init__(self, radius, color):\n",
    "        self.radius = radius\n",
    "        self.color = color\n",
    "\n",
    "    def __lt__(self, other):\n",
    "        return self.radius < other.radius\n",
    "\n",
    "    def __le__(self, other):\n",
    "        return (self.radius <= other.radius\n",
    "                and self.color == other.color)\n",
    "\n",
    "    def __gt__(self, other):\n",
    "        return self.radius > other.radius\n",
    "\n",
    "    def __ge__(self, other):\n",
    "        return (self.radius >= other.radius\n",
    "                and self.color == other.color)\n",
    "\n",
    "    def __eq__(self, other):\n",
    "        return (self.radius == other.radius\n",
    "                and self.color == self.color)\n",
    "\n",
    "    def __ne__(self, other):\n",
    "        return (self.radius != other.radius\n",
    "                or self.radius != other.radius)"
   ]
  },
  {
   "cell_type": "code",
   "execution_count": 44,
   "metadata": {},
   "outputs": [],
   "source": [
    "circleA = Circle(5, \"Blue\")\n",
    "circleB = Circle(5, \"Green\")\n",
    "circleC = Circle(7, \"Red\")\n",
    "circleD = Circle(5, \"Blue\")"
   ]
  },
  {
   "cell_type": "code",
   "execution_count": 45,
   "metadata": {},
   "outputs": [
    {
     "name": "stdout",
     "output_type": "stream",
     "text": [
      "False\n",
      "False\n"
     ]
    }
   ],
   "source": [
    "print(circleA < circleB)\n",
    "print(circleA <= circleB)"
   ]
  },
  {
   "cell_type": "code",
   "execution_count": 46,
   "metadata": {},
   "outputs": [
    {
     "name": "stdout",
     "output_type": "stream",
     "text": [
      "False\n",
      "True\n"
     ]
    }
   ],
   "source": [
    "print(circleA > circleD)\n",
    "print(circleA >= circleD)"
   ]
  },
  {
   "cell_type": "code",
   "execution_count": 47,
   "metadata": {},
   "outputs": [
    {
     "name": "stdout",
     "output_type": "stream",
     "text": [
      "True\n",
      "True\n",
      "False\n"
     ]
    }
   ],
   "source": [
    "print(circleA == circleB)\n",
    "print(circleA == circleD)\n",
    "print(circleA != circleD)"
   ]
  },
  {
   "cell_type": "markdown",
   "metadata": {},
   "source": [
    "Q: Explain the relationship between rich comparison methods and operator overloading.\n",
    "\n",
    "A: Operator overloading occurs when an operator has different implementations depending on the data type of the operands. This means that the same operator can have different functionality depending on the data type of the operands. Rich comparison methods are special methods that allow us to customize the “behavior” of the comparison operators ( < <= > >= == !=) when these operators act on instances of the class. This customization of the behavior is a form of operator overloading because we are providing a different functionality for the same operator depending on the data type of the operands."
   ]
  },
  {
   "cell_type": "code",
   "execution_count": 54,
   "metadata": {},
   "outputs": [],
   "source": [
    "class Bubble:\n",
    "\t\n",
    "\tdef __init__(self, size, color, price):\n",
    "\t\tself.size = size\n",
    "\t\tself.color = color\n",
    "\t\tself.price = price\n",
    "\t\t\n",
    "\tdef __lt__(self, other):\n",
    "\t\treturn self.size < other.size\n",
    "\t\n",
    "\tdef __le__(self, other):\n",
    "\t\treturn self.size <= other.size\n",
    "\t\n",
    "\tdef __eq__(self, other):\n",
    "\t\treturn self.size == other.size\n",
    "\t\n",
    "\t# def __ne__(self, other):\n",
    "\t# \treturn self.size != other.size\n",
    "\t\n",
    "\tdef __gt__(self, other):\n",
    "\t\treturn self.size > other.size\n",
    "\t\n",
    "\tdef __ge__(self, other):\n",
    "\t\treturn self.size >= other.size"
   ]
  },
  {
   "cell_type": "code",
   "execution_count": 55,
   "metadata": {},
   "outputs": [
    {
     "data": {
      "text/plain": [
       "True"
      ]
     },
     "execution_count": 55,
     "metadata": {},
     "output_type": "execute_result"
    }
   ],
   "source": [
    "bubble1 = Bubble(6, \"Blue\", 67)\n",
    "bubble2 = Bubble(9, \"Red\", 34)\n",
    "bubble1 < bubble2"
   ]
  },
  {
   "cell_type": "code",
   "execution_count": 56,
   "metadata": {},
   "outputs": [
    {
     "data": {
      "text/plain": [
       "True"
      ]
     },
     "execution_count": 56,
     "metadata": {},
     "output_type": "execute_result"
    }
   ],
   "source": [
    "bubble1 <= bubble2"
   ]
  },
  {
   "cell_type": "code",
   "execution_count": 57,
   "metadata": {},
   "outputs": [
    {
     "data": {
      "text/plain": [
       "False"
      ]
     },
     "execution_count": 57,
     "metadata": {},
     "output_type": "execute_result"
    }
   ],
   "source": [
    "bubble1 == bubble2"
   ]
  },
  {
   "cell_type": "code",
   "execution_count": 61,
   "metadata": {},
   "outputs": [
    {
     "data": {
      "text/plain": [
       "True"
      ]
     },
     "execution_count": 61,
     "metadata": {},
     "output_type": "execute_result"
    }
   ],
   "source": [
    "# this will call __ne__\n",
    "# if not have __ne__, call __eq__ and return not of __eq__\n",
    "\n",
    "bubble1 != bubble2"
   ]
  },
  {
   "cell_type": "code",
   "execution_count": 59,
   "metadata": {},
   "outputs": [
    {
     "data": {
      "text/plain": [
       "False"
      ]
     },
     "execution_count": 59,
     "metadata": {},
     "output_type": "execute_result"
    }
   ],
   "source": [
    "bubble1 > bubble2"
   ]
  },
  {
   "cell_type": "code",
   "execution_count": 60,
   "metadata": {},
   "outputs": [
    {
     "data": {
      "text/plain": [
       "False"
      ]
     },
     "execution_count": 60,
     "metadata": {},
     "output_type": "execute_result"
    }
   ],
   "source": [
    "bubble1 >= bubble2"
   ]
  }
 ],
 "metadata": {
  "kernelspec": {
   "display_name": "Python 3.10.5 64-bit (windows store)",
   "language": "python",
   "name": "python3"
  },
  "language_info": {
   "codemirror_mode": {
    "name": "ipython",
    "version": 3
   },
   "file_extension": ".py",
   "mimetype": "text/x-python",
   "name": "python",
   "nbconvert_exporter": "python",
   "pygments_lexer": "ipython3",
   "version": "3.10.5"
  },
  "orig_nbformat": 4,
  "vscode": {
   "interpreter": {
    "hash": "3822405be9f5fb329f7270cbdcf73e762c62b3f383c5e71390a1a4648678c1cb"
   }
  }
 },
 "nbformat": 4,
 "nbformat_minor": 2
}
