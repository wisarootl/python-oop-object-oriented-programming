{
 "cells": [
  {
   "cell_type": "markdown",
   "metadata": {},
   "source": [
    "# Alias\n",
    "- alias : two or more references to the same memory address in the program\n",
    "- different Name, same Object"
   ]
  },
  {
   "cell_type": "code",
   "execution_count": 2,
   "metadata": {},
   "outputs": [
    {
     "name": "stdout",
     "output_type": "stream",
     "text": [
      "2078047535872\n",
      "2078047535872\n",
      "2078047535872\n",
      "2078047535872\n",
      "True\n"
     ]
    }
   ],
   "source": [
    "a = [1, 2, 3, 4]\n",
    "b = a\n",
    "c = b\n",
    "d = c\n",
    "\n",
    "print(id(a))\n",
    "print(id(b))\n",
    "print(id(c))\n",
    "print(id(d))\n",
    "\n",
    "# a, b, c, and d are alias\n",
    "print(a is b is c is d)"
   ]
  },
  {
   "cell_type": "code",
   "execution_count": 3,
   "metadata": {},
   "outputs": [
    {
     "name": "stdout",
     "output_type": "stream",
     "text": [
      "Before:\n",
      "4\n",
      "4\n",
      "After:\n",
      "18\n",
      "18\n"
     ]
    }
   ],
   "source": [
    "class Circle:\n",
    "\n",
    "    def __init__(self, radius):\n",
    "        self.radius = radius\n",
    "\n",
    "\n",
    "my_circle = Circle(4)\n",
    "your_circle = my_circle\n",
    "\n",
    "# my_circle and your_circle are alias\n",
    "print(\"Before:\")\n",
    "print(my_circle.radius)\n",
    "print(your_circle.radius)\n",
    "\n",
    "your_circle.radius = 18\n",
    "\n",
    "print(\"After:\")\n",
    "print(my_circle.radius)\n",
    "print(your_circle.radius)"
   ]
  },
  {
   "cell_type": "code",
   "execution_count": 4,
   "metadata": {},
   "outputs": [
    {
     "name": "stdout",
     "output_type": "stream",
     "text": [
      "True\n",
      "['Water Bottle', 'Candy']\n",
      "['Water Bottle', 'Candy']\n",
      "['Water Bottle', 'Candy']\n"
     ]
    }
   ],
   "source": [
    "class Backpack:\n",
    "\n",
    "    def __init__(self):\n",
    "        self._items = []\n",
    "\n",
    "    @property\n",
    "    def items(self):\n",
    "        return self._items\n",
    "\n",
    "    def add_item(self, item):\n",
    "        self._items.append(item)\n",
    "\n",
    "    def remove_item(self, item):\n",
    "        if item in self._items:\n",
    "            self._items.remove(item)\n",
    "        else:\n",
    "            print(\"This item is not in the backpack.\")\n",
    "\n",
    "\n",
    "my_backpack = Backpack()\n",
    "your_backpack = my_backpack\n",
    "her_backpack = your_backpack\n",
    "\n",
    "print(my_backpack is your_backpack is her_backpack)\n",
    "\n",
    "my_backpack.add_item(\"Water Bottle\")\n",
    "my_backpack.add_item(\"Candy\")\n",
    "\n",
    "print(my_backpack.items)\n",
    "print(your_backpack.items)\n",
    "print(her_backpack.items)\n"
   ]
  },
  {
   "cell_type": "markdown",
   "metadata": {},
   "source": [
    "# Mutability and Immutability\n",
    "\n",
    "- mutable : lists, sets, dictionaries\n",
    "- immutable : booleans, integers, floats, string, tuples"
   ]
  },
  {
   "cell_type": "code",
   "execution_count": 11,
   "metadata": {},
   "outputs": [
    {
     "name": "stdout",
     "output_type": "stream",
     "text": [
      "[5, 3, 2, 1]\n",
      "This throws an error because tuples are immutable.\n",
      "This throws an error because tuples are immutable.\n"
     ]
    }
   ],
   "source": [
    "a = [7, 3, 2, 1]\n",
    "a[0] = 5\n",
    "print(a)\n",
    "\n",
    "a = (7, 3, 2, 1)\n",
    "try:\n",
    "  a[0] = 5 # This throws an error because tuples are immutable.\n",
    "except TypeError:\n",
    "  print(\"This throws an error because tuples are immutable.\")\n",
    "\n",
    "a = \"Hello, World!\"\n",
    "try:\n",
    "  a[0] = \"S\" # This throws an error because strings are immutable.\n",
    "except TypeError:\n",
    "  print(\"This throws an error because tuples are immutable.\")\n"
   ]
  },
  {
   "cell_type": "markdown",
   "metadata": {},
   "source": [
    "Pros of mutable object\n",
    "- memory efficiency\n",
    "- represent real-world objects\n",
    "\n",
    "Cons of mutable object\n",
    "- bug\n",
    "- potential risk of aliasing : mutate an object unintentionally through an alias"
   ]
  },
  {
   "cell_type": "code",
   "execution_count": 16,
   "metadata": {},
   "outputs": [
    {
     "name": "stdout",
     "output_type": "stream",
     "text": [
      "Values Before: [-5, -6, -7, -8]\n",
      "Values After: [5, 6, 7, 8]\n"
     ]
    }
   ],
   "source": [
    "# bug from mutable object\n",
    "def add_absolute_values(seq):\n",
    "    for i in range(len(seq)):\n",
    "        seq[i] = abs(seq[i])\n",
    "    return sum(seq)\n",
    "\n",
    "values = [-5, -6, -7, -8]\n",
    "\n",
    "print(\"Values Before:\", values)\n",
    "\n",
    "result = add_absolute_values(values)\n",
    "\n",
    "# unintended update original list\n",
    "print(\"Values After:\", values)\n"
   ]
  },
  {
   "cell_type": "code",
   "execution_count": 15,
   "metadata": {},
   "outputs": [
    {
     "name": "stdout",
     "output_type": "stream",
     "text": [
      "[15, 2, 3, 4]\n",
      "[15, 2, 3, 4]\n"
     ]
    }
   ],
   "source": [
    "a = [1, 2, 3, 4]\n",
    "b = a\n",
    "\n",
    "b[0] = 15\n",
    "\n",
    "# unintended update a[0]\n",
    "print(a)\n",
    "print(b)"
   ]
  },
  {
   "cell_type": "markdown",
   "metadata": {},
   "source": [
    "Pros of immutable object\n",
    "- safer from bugs\n",
    "- easier to understand\n",
    "\n",
    "Cons of immutable object\n",
    "- less efficient"
   ]
  },
  {
   "cell_type": "code",
   "execution_count": 17,
   "metadata": {},
   "outputs": [
    {
     "name": "stdout",
     "output_type": "stream",
     "text": [
      "2078067994240\n",
      "(1, 2, 7, 3, 4)\n",
      "2078067867792\n"
     ]
    }
   ],
   "source": [
    "a = (1, 2, 3, 4)\n",
    "\n",
    "print(id(a))\n",
    "\n",
    "# need to create new tuple to add the element\n",
    "a = a[:2] + (7,) + a[2:]\n",
    "\n",
    "print(a)\n",
    "\n",
    "print(id(a))"
   ]
  },
  {
   "cell_type": "code",
   "execution_count": 20,
   "metadata": {},
   "outputs": [
    {
     "ename": "RuntimeError",
     "evalue": "dictionary changed size during iteration",
     "output_type": "error",
     "traceback": [
      "\u001b[1;31m---------------------------------------------------------------------------\u001b[0m",
      "\u001b[1;31mRuntimeError\u001b[0m                              Traceback (most recent call last)",
      "\u001b[1;32md:\\06 - Working\\11-python-oop\\python-oop-object-oriented-programming\\11-aliasing-mutation-cloning\\11-aliasing-mutation-cloning.ipynb Cell 12'\u001b[0m in \u001b[0;36m<cell line: 8>\u001b[1;34m()\u001b[0m\n\u001b[0;32m      <a href='vscode-notebook-cell:/d%3A/06%20-%20Working/11-python-oop/python-oop-object-oriented-programming/11-aliasing-mutation-cloning/11-aliasing-mutation-cloning.ipynb#ch0000012?line=3'>4</a>\u001b[0m             \u001b[39mdel\u001b[39;00m dictionary[key]\n\u001b[0;32m      <a href='vscode-notebook-cell:/d%3A/06%20-%20Working/11-python-oop/python-oop-object-oriented-programming/11-aliasing-mutation-cloning/11-aliasing-mutation-cloning.ipynb#ch0000012?line=5'>6</a>\u001b[0m my_dictionary \u001b[39m=\u001b[39m {\u001b[39m\"\u001b[39m\u001b[39ma\u001b[39m\u001b[39m\"\u001b[39m: \u001b[39m1\u001b[39m, \u001b[39m\"\u001b[39m\u001b[39mb\u001b[39m\u001b[39m\"\u001b[39m: \u001b[39m2\u001b[39m, \u001b[39m\"\u001b[39m\u001b[39mc\u001b[39m\u001b[39m\"\u001b[39m: \u001b[39m3\u001b[39m, \u001b[39m\"\u001b[39m\u001b[39md\u001b[39m\u001b[39m\"\u001b[39m: \u001b[39m4\u001b[39m}\n\u001b[1;32m----> <a href='vscode-notebook-cell:/d%3A/06%20-%20Working/11-python-oop/python-oop-object-oriented-programming/11-aliasing-mutation-cloning/11-aliasing-mutation-cloning.ipynb#ch0000012?line=7'>8</a>\u001b[0m remove_even_values(my_dictionary)\n",
      "\u001b[1;32md:\\06 - Working\\11-python-oop\\python-oop-object-oriented-programming\\11-aliasing-mutation-cloning\\11-aliasing-mutation-cloning.ipynb Cell 12'\u001b[0m in \u001b[0;36mremove_even_values\u001b[1;34m(dictionary)\u001b[0m\n\u001b[0;32m      <a href='vscode-notebook-cell:/d%3A/06%20-%20Working/11-python-oop/python-oop-object-oriented-programming/11-aliasing-mutation-cloning/11-aliasing-mutation-cloning.ipynb#ch0000012?line=0'>1</a>\u001b[0m \u001b[39mdef\u001b[39;00m \u001b[39mremove_even_values\u001b[39m(dictionary):\n\u001b[1;32m----> <a href='vscode-notebook-cell:/d%3A/06%20-%20Working/11-python-oop/python-oop-object-oriented-programming/11-aliasing-mutation-cloning/11-aliasing-mutation-cloning.ipynb#ch0000012?line=1'>2</a>\u001b[0m     \u001b[39mfor\u001b[39;00m key, value \u001b[39min\u001b[39;00m dictionary\u001b[39m.\u001b[39mitems():\n\u001b[0;32m      <a href='vscode-notebook-cell:/d%3A/06%20-%20Working/11-python-oop/python-oop-object-oriented-programming/11-aliasing-mutation-cloning/11-aliasing-mutation-cloning.ipynb#ch0000012?line=2'>3</a>\u001b[0m         \u001b[39mif\u001b[39;00m value \u001b[39m%\u001b[39m \u001b[39m2\u001b[39m \u001b[39m==\u001b[39m \u001b[39m0\u001b[39m:\n\u001b[0;32m      <a href='vscode-notebook-cell:/d%3A/06%20-%20Working/11-python-oop/python-oop-object-oriented-programming/11-aliasing-mutation-cloning/11-aliasing-mutation-cloning.ipynb#ch0000012?line=3'>4</a>\u001b[0m             \u001b[39mdel\u001b[39;00m dictionary[key]\n",
      "\u001b[1;31mRuntimeError\u001b[0m: dictionary changed size during iteration"
     ]
    }
   ],
   "source": [
    "def remove_even_values(dictionary):\n",
    "    for key, value in dictionary.items():\n",
    "        if value % 2 == 0:\n",
    "            del dictionary[key]\n",
    "\n",
    "my_dictionary = {\"a\": 1, \"b\": 2, \"c\": 3, \"d\": 4}\n",
    "\n",
    "remove_even_values(my_dictionary) # This throws an error."
   ]
  },
  {
   "cell_type": "code",
   "execution_count": 21,
   "metadata": {},
   "outputs": [
    {
     "name": "stdout",
     "output_type": "stream",
     "text": [
      "['Jake']\n",
      "['Jake']\n"
     ]
    }
   ],
   "source": [
    "# Bugs\n",
    "\n",
    "class WaitingList:\n",
    "    \t\n",
    "    \tdef __init__(self, clients=[]): # The default argument is an empty list\n",
    "    \t\tself.clients = clients\n",
    "    \t\t\n",
    "    \tdef add_client(self, client):\n",
    "    \t\tself.clients.append(client)\n",
    "     \n",
    "# Create the instances\t\t\n",
    "waiting_list1 = WaitingList()\n",
    "waiting_list2 = WaitingList()\n",
    "     \n",
    "# Add a client to the first waiting list\n",
    "waiting_list1.add_client(\"Jake\")\n",
    "     \n",
    "# Both of them were modified!\n",
    "print(waiting_list1.clients)\n",
    "print(waiting_list2.clients)\n"
   ]
  },
  {
   "cell_type": "code",
   "execution_count": 23,
   "metadata": {},
   "outputs": [
    {
     "name": "stdout",
     "output_type": "stream",
     "text": [
      "['Jake']\n",
      "[]\n"
     ]
    }
   ],
   "source": [
    "# Solution\n",
    "class WaitingList:\n",
    "    \t\n",
    "    \tdef __init__(self, clients=None):\n",
    "                    if clients == None:\n",
    "                            self.clients = []\n",
    "                    else:\n",
    "                            self.clients = clients\n",
    "    \t\t\n",
    "    \tdef add_client(self, client):\n",
    "    \t\tself.clients.append(client)\n",
    "             \n",
    "# Create the instances\t\t\n",
    "waiting_list1 = WaitingList()\n",
    "waiting_list2 = WaitingList()\n",
    "     \n",
    "# Add a client to the first waiting list\n",
    "waiting_list1.add_client(\"Jake\")\n",
    "     \n",
    "# Both of them were modified!\n",
    "print(waiting_list1.clients)\n",
    "print(waiting_list2.clients)"
   ]
  },
  {
   "cell_type": "markdown",
   "metadata": {},
   "source": [
    "# Cloning\n",
    "\n",
    "- creating exact copy of the object that is completely independent from the original object"
   ]
  },
  {
   "cell_type": "code",
   "execution_count": 24,
   "metadata": {},
   "outputs": [
    {
     "name": "stdout",
     "output_type": "stream",
     "text": [
      "[1, 2, 3, 4]\n",
      "[1, 2, 3, 4]\n",
      "[1, 2, 3, 4]\n",
      "[15, 2, 3, 4]\n"
     ]
    }
   ],
   "source": [
    "a = [1, 2, 3, 4]\n",
    "b = a[:]\n",
    "\n",
    "print(a)\n",
    "print(b)\n",
    "\n",
    "b[0] = 15\n",
    "\n",
    "print(a)\n",
    "print(b)"
   ]
  },
  {
   "cell_type": "code",
   "execution_count": 25,
   "metadata": {},
   "outputs": [
    {
     "name": "stdout",
     "output_type": "stream",
     "text": [
      "{'a': 1, 'c': 3}\n"
     ]
    }
   ],
   "source": [
    "# solve dictionary error from the above function (same name)\n",
    "\n",
    "def remove_even_values(dictionary):\n",
    "    for key, value in dictionary.copy().items():\n",
    "        if value % 2 == 0:\n",
    "            del dictionary[key]\n",
    "\n",
    "my_dictionary = {\"a\": 1, \"b\": 2, \"c\": 3, \"d\": 4}\n",
    "\n",
    "remove_even_values(my_dictionary)\n",
    "\n",
    "print(my_dictionary)"
   ]
  },
  {
   "cell_type": "code",
   "execution_count": 27,
   "metadata": {},
   "outputs": [
    {
     "name": "stdout",
     "output_type": "stream",
     "text": [
      "[7, 6, 8, 2, 7, 2, 6, 6]\n",
      "9144576\n",
      "[7, 3, 6, 8, 2, 3, 7, 2, 6, 3, 6]\n"
     ]
    }
   ],
   "source": [
    "a = [7, 3, 6, 8, 2, 3, 7, 2, 6, 3, 6]\n",
    "b = a\n",
    "c = b\n",
    "b = c\n",
    "\n",
    "def remove_elem(data, target):\n",
    "\tnew_data = data[:]\n",
    "\n",
    "\tfor item in data:\n",
    "\t\tif item == target:\n",
    "\t\t\tnew_data.remove(target)\n",
    "\n",
    "\treturn new_data\n",
    "\n",
    "def get_product(data):\n",
    "\ttotal = 1\n",
    "\n",
    "\tfor i in range(len(data)):\n",
    "\t\ttotal *= data[i]\n",
    "\n",
    "\treturn total\n",
    "\n",
    "print(remove_elem(c, 3))\n",
    "print(get_product(b))\n",
    "print(a)"
   ]
  }
 ],
 "metadata": {
  "kernelspec": {
   "display_name": "Python 3.10.5 64-bit (windows store)",
   "language": "python",
   "name": "python3"
  },
  "language_info": {
   "codemirror_mode": {
    "name": "ipython",
    "version": 3
   },
   "file_extension": ".py",
   "mimetype": "text/x-python",
   "name": "python",
   "nbconvert_exporter": "python",
   "pygments_lexer": "ipython3",
   "version": "3.10.5"
  },
  "orig_nbformat": 4,
  "vscode": {
   "interpreter": {
    "hash": "3822405be9f5fb329f7270cbdcf73e762c62b3f383c5e71390a1a4648678c1cb"
   }
  }
 },
 "nbformat": 4,
 "nbformat_minor": 2
}
