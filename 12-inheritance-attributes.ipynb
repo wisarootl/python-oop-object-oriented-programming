{
 "cells": [
  {
   "cell_type": "markdown",
   "metadata": {},
   "source": [
    "# inheritance\n",
    "- inheritance : defining classes that inherit attributes and methods from other classes\n",
    "- pro : reduce code repetition, reuse code, improve readability \n",
    "\n",
    "\n",
    "____________ is a _________\n",
    "child class is a parent\n",
    "triangle is a polygon\n",
    "\n",
    "-  Important: In Python, every class is derived from the object class."
   ]
  },
  {
   "cell_type": "code",
   "execution_count": 3,
   "metadata": {},
   "outputs": [
    {
     "name": "stdout",
     "output_type": "stream",
     "text": [
      "3\n",
      "Blue\n"
     ]
    }
   ],
   "source": [
    "class Polygon:\n",
    "    \n",
    "    def __init__(self, num_sides, color):\n",
    "        self.num_sides = num_sides\n",
    "        self.color = color\n",
    "\n",
    "class Triangle(Polygon):\n",
    "    pass\n",
    "\n",
    "\n",
    "class Square(Polygon):\n",
    "    pass\n",
    "\n",
    "\n",
    "issubclass(Triangle, Polygon)\n",
    "my_triangle = Triangle(3, \"Blue\")\n",
    "\n",
    "print(my_triangle.num_sides)\n",
    "print(my_triangle.color)"
   ]
  },
  {
   "cell_type": "code",
   "execution_count": 5,
   "metadata": {},
   "outputs": [
    {
     "name": "stdout",
     "output_type": "stream",
     "text": [
      "3\n",
      "Blue\n"
     ]
    }
   ],
   "source": [
    "class Polygon:\n",
    "    \n",
    "    def __init__(self, num_sides, color):\n",
    "        self.num_sides = num_sides\n",
    "        self.color = color\n",
    "\n",
    "class Triangle(Polygon):\n",
    "\n",
    "    NUM_SIDES = 3\n",
    "    \n",
    "    def __init__(self, base, height, color):\n",
    "\n",
    "        super().__init__(Triangle.NUM_SIDES, color)\n",
    "        # equivalent to ...\n",
    "        # Polygon.__init__(Triangle.NUM_SIDES, color)\n",
    "\n",
    "        self.base = base\n",
    "        self.height = height\n",
    "\n",
    "\n",
    "\n",
    "issubclass(Triangle, Polygon)\n",
    "my_triangle = Triangle(5, 4, \"Blue\")\n",
    "\n",
    "print(my_triangle.num_sides)\n",
    "print(my_triangle.color)"
   ]
  },
  {
   "cell_type": "code",
   "execution_count": 6,
   "metadata": {},
   "outputs": [
    {
     "name": "stdout",
     "output_type": "stream",
     "text": [
      "Nora Nav\n",
      "60000\n",
      "Python\n"
     ]
    }
   ],
   "source": [
    "class Employee:\n",
    "\n",
    "    def __init__(self, full_name, salary):\n",
    "        self.full_name = full_name\n",
    "        self.salary = salary\n",
    "\n",
    "class Programmer(Employee):\n",
    "\n",
    "    def __init__(self, full_name, salary, programming_language):\n",
    "        Employee.__init__(self, full_name, salary)\n",
    "        self.programming_language = programming_language\n",
    "\n",
    "nora = Programmer(\"Nora Nav\", 60000, \"Python\")\n",
    "\n",
    "print(nora.full_name)\n",
    "print(nora.salary)\n",
    "print(nora.programming_language)"
   ]
  },
  {
   "cell_type": "code",
   "execution_count": 7,
   "metadata": {},
   "outputs": [
    {
     "name": "stdout",
     "output_type": "stream",
     "text": [
      "0\n",
      "0\n",
      "0\n",
      "10\n",
      "False\n",
      "15\n",
      "15\n",
      "1\n",
      "True\n",
      "15\n",
      "15\n",
      "56\n"
     ]
    }
   ],
   "source": [
    "class Character:\n",
    "\n",
    "    def __init__(self, x, y, num_lives):\n",
    "        self.x = x\n",
    "        self.y = y\n",
    "        self.num_lives = num_lives\n",
    "\n",
    "\n",
    "class Player(Character):\n",
    "\n",
    "    # non-customizable initial value\n",
    "    INITIAL_X = 0\n",
    "    INITIAL_Y = 0\n",
    "    INITIAL_NUM_LIVES = 10\n",
    "\n",
    "    def __init__(self, score=0):\n",
    "        Character.__init__(self, Player.INITIAL_X, Player.INITIAL_Y, Player.INITIAL_NUM_LIVES)\n",
    "        self.score = score\n",
    "\n",
    "\n",
    "class Enemy(Character):\n",
    "\n",
    "    # customizable default value\n",
    "    def __init__(self, x=15, y=15, num_lives=8, is_poisonous=False):\n",
    "        Character.__init__(self, x, y, num_lives)\n",
    "        self.is_poisonous = is_poisonous\n",
    "\n",
    "\n",
    "my_player = Player()\n",
    "\n",
    "print(my_player.score)\n",
    "print(my_player.x)\n",
    "print(my_player.y)\n",
    "print(my_player.num_lives)\n",
    "\n",
    "easy_enemy = Enemy(num_lives=1)\n",
    "hard_enemy = Enemy(num_lives=56, is_poisonous=True)\n",
    "\n",
    "print(easy_enemy.is_poisonous)\n",
    "print(easy_enemy.x)\n",
    "print(easy_enemy.y)\n",
    "print(easy_enemy.num_lives)\n",
    "\n",
    "print(hard_enemy.is_poisonous)\n",
    "print(hard_enemy.x)\n",
    "print(hard_enemy.y)\n",
    "print(hard_enemy.num_lives)"
   ]
  },
  {
   "cell_type": "code",
   "execution_count": 9,
   "metadata": {},
   "outputs": [],
   "source": [
    "class Mammal:\n",
    "    def __init__(self, name, age, health, num_offspring, years_in_captivity):\n",
    "        self.name = name\n",
    "        self.age = age\n",
    "        self.health = health\n",
    "        self.num_offspring = num_offspring\n",
    "        self.years_in_captivity = years_in_captivity\n",
    "\n",
    "# Define the Panda class below this line\n",
    "class Panda(Mammal):\n",
    "    # class attribute\n",
    "    is_endangered = True\n",
    "    \n",
    "    def __init__(self, name, age, health, num_offspring, years_in_captivity, code):\n",
    "        Mammal.__init__(self, name, age, health, num_offspring, years_in_captivity)\n",
    "        # instance attribute\n",
    "        self.code = code\n",
    "\n",
    "my_panda = Panda(\"Nora\", 5, \"Good\", 2, 5, 24601)"
   ]
  },
  {
   "cell_type": "code",
   "execution_count": 11,
   "metadata": {},
   "outputs": [],
   "source": [
    "class ElectronicDevice:\n",
    "\n",
    "\tdef __init__(self, voltage, weight, height, color):\n",
    "\t\tself.voltage = voltage\n",
    "\t\tself.weight = weight\n",
    "\t\tself.height = height\n",
    "\t\tself.color = color\n",
    "\n",
    "class TV(ElectronicDevice):\n",
    "\n",
    "\tdef __init__(self, voltage, weight, height, color, max_num_channels ):\n",
    "\t\tElectronicDevice.__init__(self, voltage, weight, height, color)\n",
    "\t\tself.max_num_channels = max_num_channels \n",
    "\n",
    "class Computer(ElectronicDevice):\n",
    "\n",
    "\tdef __init__(self, voltage, weight, height, color, memory, hard_drive ):\n",
    "\t\tElectronicDevice.__init__(self, voltage, weight, height, color)\n",
    "\t\tself.memory = memory\n",
    "\t\tself.hard_drive = hard_drive \n",
    "\n",
    "class Desktop(Computer):\n",
    "\n",
    "\tdef __init__(self, voltage, weight, height, color, memory, hard_drive , monitor_size):\n",
    "\t\tComputer.__init__(self, voltage, weight, height, color, memory, hard_drive )\n",
    "\t\tself.monitor_size = monitor_size \n",
    "\n",
    "class Laptop(Computer):\n",
    "\n",
    "\tdef __init__(self, voltage, weight, height, color, memory, hard_drive , has_mouse_pad):\n",
    "\t\tComputer.__init__(self, voltage, weight, height, color, memory, hard_drive )\n",
    "\t\tself.has_mouse_pad = has_mouse_pad "
   ]
  },
  {
   "cell_type": "code",
   "execution_count": 10,
   "metadata": {},
   "outputs": [],
   "source": [
    "class Pizza:\n",
    "    def __init__(self, size, toppings, price, rating):\n",
    "        self.size = size          # \"Small\", \"Medium\", or \"Large\"\n",
    "        self.toppings = toppings  # A list of toppings\n",
    "        self.price = price\n",
    "        self.rating = rating      # Scale from 1 to 5\n",
    "\n",
    "# Add the subclasses below this line\n",
    "class PizzaMargherita(Pizza):\n",
    "    \n",
    "    def __init__(self, size, toppings, price, rating, has_extra_cheese):\n",
    "        Pizza.__init__(self, size, toppings, price, rating)\n",
    "        self.has_extra_cheese = has_extra_cheese\n",
    "\n",
    "class PizzaMarinara(Pizza):\n",
    "    \n",
    "    def __init__(self, size, toppings, price, rating, has_extra_basil):\n",
    "        Pizza.__init__(self, size, toppings, price, rating)\n",
    "        self.has_extra_basil = has_extra_basil\n",
    "        \n",
    "\n",
    "margherita = PizzaMargherita(\"small\", [\"Mushrooms\"], 500, 5.0, True)\n",
    "marinara = PizzaMarinara(\"Large\", [\"Basil\"], 234, 3.0, False)"
   ]
  },
  {
   "cell_type": "code",
   "execution_count": 12,
   "metadata": {},
   "outputs": [],
   "source": [
    "class Sprite(object):\n",
    "    \n",
    "    def __init__(self, x, y, img_file, speed, life_counter):\n",
    "        self.x = x\n",
    "        self.y = y\n",
    "        self.img_file = img_file\n",
    "        self.speed = speed\n",
    "        self.life_counter = life_counter\n",
    "\n",
    "class Enemy(Sprite):\n",
    "    \n",
    "    def __init__(self, x, y, img_file, speed):\n",
    "        Sprite.__init__(self, x, y, img_file, speed, 5)\n",
    "        self.message = \"I'm here to protect my master\"\n",
    "\n",
    "class Player(Sprite):\n",
    "    \n",
    "    def __init__(self, x, y, img_file, speed=56, life_counter=6):\n",
    "        Sprite.__init__(self, x, y, img_file, speed, life_counter)\n",
    "\n",
    "class DifficultEnemy(Enemy):\n",
    "    \n",
    "    def __init__(self, x, y, img_file):\n",
    "        Enemy.__init__(self, x, y, img_file, 80)\n",
    "\n",
    "class EasyEnemy(Enemy):\n",
    "    \n",
    "    def __init__(self, x, y, img_file):\n",
    "        Enemy.__init__(self, x, y, img_file, 40)\n",
    "        self.life_counter = 1"
   ]
  }
 ],
 "metadata": {
  "kernelspec": {
   "display_name": "Python 3.10.5 64-bit (windows store)",
   "language": "python",
   "name": "python3"
  },
  "language_info": {
   "codemirror_mode": {
    "name": "ipython",
    "version": 3
   },
   "file_extension": ".py",
   "mimetype": "text/x-python",
   "name": "python",
   "nbconvert_exporter": "python",
   "pygments_lexer": "ipython3",
   "version": "3.10.5"
  },
  "orig_nbformat": 4,
  "vscode": {
   "interpreter": {
    "hash": "3822405be9f5fb329f7270cbdcf73e762c62b3f383c5e71390a1a4648678c1cb"
   }
  }
 },
 "nbformat": 4,
 "nbformat_minor": 2
}
