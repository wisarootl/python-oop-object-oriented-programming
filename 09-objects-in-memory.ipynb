{
 "cells": [
  {
   "cell_type": "code",
   "execution_count": 1,
   "metadata": {},
   "outputs": [
    {
     "name": "stdout",
     "output_type": "stream",
     "text": [
      "<class 'object'>\n",
      "True\n",
      "True\n",
      "True\n",
      "True\n",
      "True\n",
      "True\n",
      "True\n",
      "True\n"
     ]
    }
   ],
   "source": [
    "# In Python, everything is an object.\n",
    "\n",
    "print(object)\n",
    "\n",
    "print(isinstance(5, object))\n",
    "\n",
    "print(isinstance([1, 2, 3], object))\n",
    "\n",
    "print(isinstance(\"Hello\", object))\n",
    "\n",
    "print(isinstance({\"a\": 1, \"b\": 3}, object))\n",
    "\n",
    "print(isinstance(True, object))\n",
    "\n",
    "def f(x):\n",
    "  return x * 2\n",
    "\n",
    "print(isinstance(f, object))\n",
    "\n",
    "class Movie:\n",
    "\n",
    "  def __init__(self):\n",
    "    pass\n",
    "\n",
    "print(isinstance(Movie, object))\n",
    "\n",
    "print(isinstance(Movie(), object))\n",
    "\n"
   ]
  },
  {
   "cell_type": "code",
   "execution_count": 10,
   "metadata": {},
   "outputs": [
    {
     "name": "stdout",
     "output_type": "stream",
     "text": [
      "140705152087936\n",
      "1510997033648\n",
      "1510997033648\n",
      "1511068379328\n",
      "1511063641728\n"
     ]
    }
   ],
   "source": [
    "# id() return memory location\n",
    "\n",
    "print(id(object))\n",
    "print(id(15))\n",
    "print(id(15))\n",
    "print(id([1, 2]))\n",
    "print(id([1, 2]))"
   ]
  },
  {
   "cell_type": "code",
   "execution_count": 11,
   "metadata": {},
   "outputs": [
    {
     "name": "stdout",
     "output_type": "stream",
     "text": [
      "1511063330224\n",
      "1511068823520\n"
     ]
    }
   ],
   "source": [
    "class Backpack:\n",
    "\n",
    "    def __init__(self):\n",
    "        self._items = []\n",
    "\n",
    "    @property\n",
    "    def items(self):\n",
    "        return self._items\n",
    "    \n",
    "\n",
    "my_backpack = Backpack()\n",
    "your_backpack = Backpack()\n",
    "\n",
    "print(id(my_backpack))\n",
    "\n",
    "print(id(your_backpack))"
   ]
  },
  {
   "cell_type": "code",
   "execution_count": 12,
   "metadata": {},
   "outputs": [
    {
     "name": "stdout",
     "output_type": "stream",
     "text": [
      "False\n",
      "True\n"
     ]
    }
   ],
   "source": [
    "# is vs. ==\n",
    "\n",
    "a = [1, 6, 2, 6]\n",
    "b = [1, 6, 2, 6]\n",
    "\n",
    "\n",
    "# id(a) != id(b)\n",
    "print(a is b)\n",
    "\n",
    "print(a == b)\n",
    "\n",
    "# is check the object\n",
    "# == check value"
   ]
  },
  {
   "cell_type": "code",
   "execution_count": 21,
   "metadata": {},
   "outputs": [
    {
     "name": "stdout",
     "output_type": "stream",
     "text": [
      "False\n",
      "==========\n",
      "True\n",
      "True\n",
      "==========\n",
      "False\n",
      "False\n",
      "==========\n",
      "False\n",
      "False\n"
     ]
    }
   ],
   "source": [
    "a = [5, 2, 1, 8, 3]\n",
    "b = [6, 2, 8, 9, 3]\n",
    "\n",
    "print(a is b)\n",
    "print(\"=\" * 10)\n",
    "\n",
    "a = [5, 2, 1, 8, 3]\n",
    "b = a\n",
    "\n",
    "print(a is b)\n",
    "print(b is a)\n",
    "print(\"=\" * 10)\n",
    "\n",
    "c = (\"a\", \"b\", \"c\")\n",
    "d = (\"e\", \"f\")\n",
    "\n",
    "print(c is d)\n",
    "print(d is c)\n",
    "print(\"=\" * 10)\n",
    "\n",
    "e = \"Hello, World!\"\n",
    "f = \"Hello, World!\"\n",
    "# if we run in .py, it will be true!!\n",
    "print(e is f)\n",
    "print(f is e)"
   ]
  },
  {
   "cell_type": "code",
   "execution_count": 20,
   "metadata": {},
   "outputs": [
    {
     "name": "stdout",
     "output_type": "stream",
     "text": [
      "False\n",
      "False\n"
     ]
    }
   ],
   "source": [
    "e = \"Hello, World!\"\n",
    "ff = \"Hello, World!\"\n",
    "\n",
    "print(e is ff)\n",
    "print(ff is e)"
   ]
  },
  {
   "cell_type": "markdown",
   "metadata": {},
   "source": [
    "# \"is\" operator and unexpected results\n",
    "\n",
    "- it come from implementation details in python (memory optimization) vary with environment and python version\n",
    "\n",
    "- small integer [-5, 256]\n",
    "\n",
    "- string interning (strings are immutable, python optimize string in memory)"
   ]
  },
  {
   "cell_type": "code",
   "execution_count": 22,
   "metadata": {},
   "outputs": [
    {
     "name": "stdout",
     "output_type": "stream",
     "text": [
      "True\n",
      "1511069473776\n",
      "1511069473776\n",
      "1511069473776\n",
      "1511069473776\n",
      "True\n"
     ]
    }
   ],
   "source": [
    "a = \"H\"\n",
    "b = \"H\"\n",
    "\n",
    "print(a is b)\n",
    "\n",
    "\n",
    "a = \"Hi\"\n",
    "print(id(a))\n",
    "\n",
    "b = \"Hi\"\n",
    "print(id(b))\n",
    "\n",
    "c = \"Hi\"\n",
    "print(id(c))\n",
    "\n",
    "d = \"Hi\"\n",
    "print(id(d))\n",
    "\n",
    "print(a is b is c is d)\n"
   ]
  },
  {
   "cell_type": "code",
   "execution_count": 23,
   "metadata": {},
   "outputs": [
    {
     "name": "stdout",
     "output_type": "stream",
     "text": [
      "Outside the function: 1511063313536\n",
      "Inside the function: 1511063313536\n",
      "6\n",
      "2\n",
      "8\n",
      "2\n"
     ]
    }
   ],
   "source": [
    "my_list = [6, 2, 8, 2]\n",
    "\n",
    "\n",
    "# list object inside function is the same as list object outside function\n",
    "\n",
    "def print_data(seq):\n",
    "    print(\"Inside the function:\", id(seq))\n",
    "    for elem in seq:\n",
    "        print(elem)\n",
    "\n",
    "\n",
    "print(\"Outside the function:\", id(my_list))\n",
    "print_data(my_list)"
   ]
  },
  {
   "cell_type": "code",
   "execution_count": 25,
   "metadata": {},
   "outputs": [
    {
     "name": "stdout",
     "output_type": "stream",
     "text": [
      "Outside the function: 1511069427200\n",
      "Inside the function: 1511069427200\n",
      "[12, 4, 16, 4]\n"
     ]
    }
   ],
   "source": [
    "my_list = [6, 2, 8, 2]\n",
    "\n",
    "\n",
    "# list object inside function is the same as list object outside function\n",
    "\n",
    "def multiply_by_two(seq):\n",
    "    print(\"Inside the function:\", id(my_list))\n",
    "    for i in range(len(seq)):\n",
    "        seq[i] *= 2\n",
    "\n",
    "\n",
    "print(\"Outside the function:\", id(my_list))\n",
    "multiply_by_two(my_list)\n",
    "\n",
    "print(my_list)"
   ]
  },
  {
   "cell_type": "code",
   "execution_count": 26,
   "metadata": {},
   "outputs": [
    {
     "name": "stdout",
     "output_type": "stream",
     "text": [
      "New Sale...\n",
      "400\n",
      "New Sale...\n",
      "345\n",
      "New Sale...\n",
      "45\n",
      "790\n"
     ]
    }
   ],
   "source": [
    "class Sale:\n",
    "\n",
    "    def __init__(self, amount):\n",
    "        self.amount = amount\n",
    "\n",
    "\n",
    "def find_total(sales):\n",
    "    total = 0\n",
    "\n",
    "    for sale in sales:\n",
    "        print(\"New Sale...\")\n",
    "        print(sale.amount)\n",
    "        total += sale.amount\n",
    "\n",
    "    return total\n",
    "\n",
    "\n",
    "january_sales = [Sale(400), Sale(345), Sale(45)]\n",
    "\n",
    "print(find_total(january_sales))\n"
   ]
  },
  {
   "cell_type": "code",
   "execution_count": null,
   "metadata": {},
   "outputs": [],
   "source": []
  }
 ],
 "metadata": {
  "kernelspec": {
   "display_name": "Python 3.10.5 64-bit (windows store)",
   "language": "python",
   "name": "python3"
  },
  "language_info": {
   "codemirror_mode": {
    "name": "ipython",
    "version": 3
   },
   "file_extension": ".py",
   "mimetype": "text/x-python",
   "name": "python",
   "nbconvert_exporter": "python",
   "pygments_lexer": "ipython3",
   "version": "3.10.5"
  },
  "orig_nbformat": 4,
  "vscode": {
   "interpreter": {
    "hash": "3822405be9f5fb329f7270cbdcf73e762c62b3f383c5e71390a1a4648678c1cb"
   }
  }
 },
 "nbformat": 4,
 "nbformat_minor": 2
}
