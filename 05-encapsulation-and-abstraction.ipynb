{
 "cells": [
  {
   "cell_type": "markdown",
   "metadata": {},
   "source": [
    "# Encapsulation\n",
    "- Encapsulation : bundling of data and methods that act on that data into a single unit (class)\n",
    "- Prevent direct access to the attributes to avoid potential problems\n",
    "- Getter + Setter\n",
    "- Public + Non-Public"
   ]
  },
  {
   "cell_type": "markdown",
   "metadata": {},
   "source": [
    "# Abstraction\n",
    "- Abstraction : show only the essential attributes and hide unnecessary details from the user.\n",
    "- hide the complexity from the user\n",
    "- class : consist of interface and implementation \n",
    "- interface : visible part of the class that program can interact with\n",
    "- implementation : the internal part of the class with the code that perform the functionality"
   ]
  },
  {
   "cell_type": "markdown",
   "metadata": {},
   "source": [
    "# Public vc Non-Public"
   ]
  },
  {
   "cell_type": "code",
   "execution_count": 2,
   "metadata": {},
   "outputs": [
    {
     "name": "stdout",
     "output_type": "stream",
     "text": [
      "2020\n",
      "5600\n"
     ]
    }
   ],
   "source": [
    "class Car:\n",
    "\n",
    "    def __init__(self, brand, model, year):\n",
    "        self.brand = brand\n",
    "        self.model = model\n",
    "        self.year = year\n",
    "\n",
    "\n",
    "my_car = Car(\"Porsche\", \"911 Carrera\", 2020)\n",
    "\n",
    "print(my_car.year)\n",
    "my_car.year = 5600\n",
    "print(my_car.year)"
   ]
  },
  {
   "cell_type": "code",
   "execution_count": 6,
   "metadata": {},
   "outputs": [
    {
     "name": "stdout",
     "output_type": "stream",
     "text": [
      "2020\n"
     ]
    }
   ],
   "source": [
    "class Car:\n",
    "\n",
    "    def __init__(self, brand, model, year):\n",
    "        self.brand = brand\n",
    "        self.model = model\n",
    "\n",
    "        # not public attribute\n",
    "        self._year = year\n",
    "\n",
    "\n",
    "my_car = Car(\"Porsche\", \"911 Carrera\", 2020)\n",
    "\n",
    "\n",
    "# print(my_car.year) # Can't be accessed\n",
    "\n",
    "\n",
    "print(my_car._year)\n"
   ]
  },
  {
   "cell_type": "code",
   "execution_count": 7,
   "metadata": {},
   "outputs": [
    {
     "name": "stdout",
     "output_type": "stream",
     "text": [
      "15\n"
     ]
    }
   ],
   "source": [
    "class Student:\n",
    "\n",
    "    def __init__(self, student_id, name, age, gpa):\n",
    "        self.student_id = student_id\n",
    "        self.name = name\n",
    "        self._age = age\n",
    "        self.gpa = gpa\n",
    "\n",
    "student_nora = Student(\"245AFS\", \"Nora Nav\", 15, 3.96)\n",
    "\n",
    "# print(student_nora.age) # Throws an error.\n",
    "\n",
    "print(student_nora._age) # Can be accessed but it shouldn't be accessed."
   ]
  },
  {
   "cell_type": "code",
   "execution_count": 9,
   "metadata": {},
   "outputs": [
    {
     "name": "stdout",
     "output_type": "stream",
     "text": [
      "[]\n"
     ]
    }
   ],
   "source": [
    "class Backpack:\n",
    "\n",
    "    def __init__(self):\n",
    "        self._items = []\n",
    "\n",
    "\n",
    "my_backpack = Backpack()\n",
    "\n",
    "# print(my_backpack.items) # Can't be accessed.\n",
    "\n",
    "print(my_backpack._items) # Can be accessed but it shouldn't be.\n"
   ]
  },
  {
   "cell_type": "code",
   "execution_count": 11,
   "metadata": {},
   "outputs": [
    {
     "name": "stdout",
     "output_type": "stream",
     "text": [
      "1\n",
      "2\n"
     ]
    }
   ],
   "source": [
    "class Movie:\n",
    "\n",
    "    id_counter = 1\n",
    "\n",
    "    def __init__(self, title, year, language, rating):\n",
    "        self._id = Movie.id_counter\n",
    "        self.title = title\n",
    "        self.year = year\n",
    "        self.language = language\n",
    "        self.rating = rating\n",
    "\n",
    "        Movie.id_counter += 1\n",
    "\n",
    "\n",
    "my_movie = Movie(\"Pride and Prejudice\", 2005, \"English\", 4.7)\n",
    "your_movie = Movie(\"Sense and Sensibility\", 1995, \"English\", 4.6)\n",
    "\n",
    "# print(my_movie.id)    # Throws an error for both instances.\n",
    "# print(your_movie.id)\n",
    "\n",
    "print(my_movie._id)    # Can be accessed but it shouldn't be.\n",
    "print(your_movie._id)\n"
   ]
  },
  {
   "cell_type": "markdown",
   "metadata": {},
   "source": [
    "# Name Mangling\n",
    "\n",
    "- `self._id` : name convention\n",
    "- `self.__id` : name mangling\n",
    "- Name mangling : process by which the name of the attribute is modified\n",
    "- `__<attribute>` --(name mangling)--> `_<class>__<attribute>`"
   ]
  },
  {
   "cell_type": "code",
   "execution_count": 12,
   "metadata": {},
   "outputs": [
    {
     "name": "stdout",
     "output_type": "stream",
     "text": [
      "[]\n"
     ]
    }
   ],
   "source": [
    "class Backpack:\n",
    "\n",
    "    def __init__(self):\n",
    "        self.__items = [] # Two underscores\n",
    "\n",
    "\n",
    "my_backpack = Backpack()\n",
    "\n",
    "# print(my_backpack.items) # Can't be accessed.\n",
    "\n",
    "# print(my_backpack._items) # Can't be accessed with this name.\n",
    "\n",
    "# print(my_backpack.__items) # Can't be accessed with this name.\n",
    "\n",
    "print(my_backpack._Backpack__items) # Can be accessed but it shouldn't be. \n",
    "                                    # It should only be used for special cases."
   ]
  },
  {
   "cell_type": "code",
   "execution_count": 13,
   "metadata": {},
   "outputs": [
    {
     "name": "stdout",
     "output_type": "stream",
     "text": [
      "32\n",
      "MZM110\n"
     ]
    }
   ],
   "source": [
    "class BaseballBat:\n",
    "\n",
    "\tdef __init__(self, length, weight, model):\n",
    "\t\tself.length = length\n",
    "\t\tself._weight = weight\n",
    "\t\tself.__model = model\n",
    "\n",
    "\t\t\n",
    "baseball_bar = BaseballBat(42, 32, \"MZM110\")\n",
    "print(baseball_bar._weight)\n",
    "print(baseball_bar._BaseballBat__model)"
   ]
  },
  {
   "cell_type": "code",
   "execution_count": 14,
   "metadata": {},
   "outputs": [],
   "source": [
    "class Book:\n",
    "\n",
    "\tdef __init__(self, title, author, num_pages, ISBN, publisher):\n",
    "\t\tself.title = title\n",
    "\t\tself.author = author\n",
    "\t\tself._num_pages = num_pages\n",
    "\t\tself._ISBN = ISBN\n",
    "\t\tself._publisher = publisher"
   ]
  }
 ],
 "metadata": {
  "kernelspec": {
   "display_name": "Python 3.10.5 64-bit (windows store)",
   "language": "python",
   "name": "python3"
  },
  "language_info": {
   "codemirror_mode": {
    "name": "ipython",
    "version": 3
   },
   "file_extension": ".py",
   "mimetype": "text/x-python",
   "name": "python",
   "nbconvert_exporter": "python",
   "pygments_lexer": "ipython3",
   "version": "3.10.5"
  },
  "orig_nbformat": 4,
  "vscode": {
   "interpreter": {
    "hash": "3822405be9f5fb329f7270cbdcf73e762c62b3f383c5e71390a1a4648678c1cb"
   }
  }
 },
 "nbformat": 4,
 "nbformat_minor": 2
}
