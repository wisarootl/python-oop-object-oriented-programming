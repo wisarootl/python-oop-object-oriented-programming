{
 "cells": [
  {
   "cell_type": "markdown",
   "metadata": {},
   "source": [
    "# Methods\n",
    "- Method = behaviors of class\n",
    "\n",
    "1. instance method\n",
    "2. class method\n",
    "3. static method"
   ]
  },
  {
   "cell_type": "markdown",
   "metadata": {},
   "source": [
    "- naming convention is snake_case\n",
    "- start with verb\n",
    "- _snake_case for non-public method"
   ]
  },
  {
   "cell_type": "code",
   "execution_count": 11,
   "metadata": {},
   "outputs": [
    {
     "name": "stdout",
     "output_type": "stream",
     "text": [
      "10\n"
     ]
    }
   ],
   "source": [
    "class Circle:\n",
    "\n",
    "    def __init__(self, radius):\n",
    "        self.radius = radius\n",
    "\n",
    "    # Printing the value\n",
    "    def find_diameter(self):\n",
    "        # print(f\"Diameter: {self.radius * 2}\")\n",
    "        # The value could be returned too with:\n",
    "        return self.radius * 2\n",
    "\n",
    "my_circle = Circle(5)\n",
    "\n",
    "diameter = my_circle.find_diameter()\n",
    "print(diameter)"
   ]
  },
  {
   "cell_type": "code",
   "execution_count": 13,
   "metadata": {},
   "outputs": [
    {
     "name": "stdout",
     "output_type": "stream",
     "text": [
      "[]\n",
      "['Water Bottle']\n",
      "['Water Bottle', 'Sleeping Bag']\n",
      "True\n",
      "['Sleeping Bag']\n",
      "[]\n",
      "This item is not in the backpack.\n",
      "[]\n"
     ]
    }
   ],
   "source": [
    "class Backpack:\n",
    "\n",
    "    def __init__(self):\n",
    "        self._items = []\n",
    "\n",
    "    @property\n",
    "    def items(self):\n",
    "        return self._items\n",
    "    \n",
    "    def add_item(self, item):\n",
    "        if isinstance(item, str):\n",
    "            self._items.append(item)\n",
    "        else:\n",
    "            print(\"Please provide a valid item.\")\n",
    "\n",
    "    def remove_item(self, item):\n",
    "        if item in self._items:\n",
    "            self._items.remove(item)\n",
    "            return 1\n",
    "        else:\n",
    "            print(\"This item is not in the backpack.\")\n",
    "            return 0\n",
    "\n",
    "    def has_item(self, item):\n",
    "        return item in self._items\n",
    "\n",
    "my_backpack = Backpack()\n",
    "\n",
    "print(my_backpack.items)\n",
    "my_backpack.add_item(\"Water Bottle\")\n",
    "\n",
    "print(my_backpack.items)\n",
    "\n",
    "my_backpack.add_item(\"Sleeping Bag\")\n",
    "print(my_backpack.items)\n",
    "\n",
    "has_water = my_backpack.has_item(\"Water Bottle\")\n",
    "print(has_water)\n",
    "\n",
    "my_backpack.remove_item(\"Water Bottle\")\n",
    "print(my_backpack.items)\n",
    "\n",
    "my_backpack.remove_item(\"Sleeping Bag\")\n",
    "print(my_backpack.items)\n",
    "\n",
    "my_backpack.remove_item(\"Candy\")\n",
    "print(my_backpack.items)"
   ]
  },
  {
   "cell_type": "code",
   "execution_count": 9,
   "metadata": {},
   "outputs": [
    {
     "name": "stdout",
     "output_type": "stream",
     "text": [
      "[4, 5, 6, 7, 8]\n",
      "[4, 5, 6, 7, 8, 14]\n",
      "[4, 5, 6, 7, 8, 14, 1, 2, 3]\n",
      "3\n",
      "[4, 5, 6, 7, 8, 14, 1, 2]\n"
     ]
    }
   ],
   "source": [
    "my_list = [4, 5, 6, 7, 8]\n",
    "\n",
    "my_list.sort()\n",
    "print(my_list)\n",
    "\n",
    "my_list.append(14)\n",
    "print(my_list)\n",
    "\n",
    "my_list.extend([1, 2, 3])\n",
    "print(my_list)\n",
    "\n",
    "number = my_list.pop()\n",
    "print(number)\n",
    "print(my_list)\n"
   ]
  },
  {
   "cell_type": "markdown",
   "metadata": {},
   "source": [
    "# alternative syntax to call a method"
   ]
  },
  {
   "cell_type": "code",
   "execution_count": 14,
   "metadata": {},
   "outputs": [
    {
     "name": "stdout",
     "output_type": "stream",
     "text": [
      "Hello Johnathan, how are you today?\n"
     ]
    }
   ],
   "source": [
    "class Bus:\n",
    "  \n",
    "    def __init__(self, color):\n",
    "        self._color = color\n",
    "  \n",
    "    def welcome_student(self, student_name):\n",
    "        print(f\"Hello {student_name}, how are you today?\")\n",
    "\n",
    "bus = Bus(\"blue\")\n",
    "Bus.welcome_student(bus, \"Johnathan\")"
   ]
  },
  {
   "cell_type": "markdown",
   "metadata": {},
   "source": [
    "# non-public method\n",
    "\n",
    "- `def _display_data:` : non-public method\n",
    "- `def __display_data:` : Name Mangling (like non-public attributes)"
   ]
  },
  {
   "cell_type": "code",
   "execution_count": 15,
   "metadata": {},
   "outputs": [
    {
     "name": "stdout",
     "output_type": "stream",
     "text": [
      "15\n",
      "23\n",
      "18\n",
      "15\n",
      "7\n",
      "8\n",
      "6\n",
      "-4\n"
     ]
    }
   ],
   "source": [
    "class Player:\n",
    "\n",
    "    def __init__(self, x, y):\n",
    "        self.x = x\n",
    "        self.y = y\n",
    "\n",
    "    def move_up(self, change=5):\n",
    "        self.y += change\n",
    "\n",
    "    def move_down(self, change=5):\n",
    "        self.y -= change\n",
    "\n",
    "    def move_right(self, change=2):\n",
    "        self.x += change\n",
    "\n",
    "    def move_left(self, change=2):\n",
    "        self.x -= change\n",
    "\n",
    "\n",
    "my_player = Player(5, 10)\n",
    "\n",
    "my_player.move_up()\n",
    "print(my_player.y)\n",
    "\n",
    "my_player.move_up(8)\n",
    "print(my_player.y)\n",
    "\n",
    "my_player.move_down()\n",
    "print(my_player.y)\n",
    "\n",
    "my_player.move_down(3)\n",
    "print(my_player.y)\n",
    "\n",
    "my_player.move_right()\n",
    "print(my_player.x)\n",
    "\n",
    "my_player.move_right(1)\n",
    "print(my_player.x)\n",
    "\n",
    "my_player.move_left()\n",
    "print(my_player.x)\n",
    "\n",
    "my_player.move_left(10)\n",
    "print(my_player.x)\n"
   ]
  },
  {
   "cell_type": "code",
   "execution_count": null,
   "metadata": {},
   "outputs": [],
   "source": [
    "# call method from another method\n",
    "\n",
    "class Backpack:\n",
    "\n",
    "    def __init__(self):\n",
    "        self._items = []\n",
    "\n",
    "    @property\n",
    "    def items(self):\n",
    "        return self._items\n",
    "    \n",
    "    def add_multiple_items(self, items):\n",
    "        for item in items:\n",
    "            # call another method\n",
    "            self.add_item(item)\n",
    "\n",
    "    def add_item(self, item):\n",
    "        if isinstance(item, str):\n",
    "            self._items.append(item)\n",
    "        else:\n",
    "            print(\"Please provide a valid item.\")\n",
    "\n",
    "    def remove_item(self, item):\n",
    "        if item in self._items:\n",
    "            self._items.remove(item)\n",
    "            return 1\n",
    "        else:\n",
    "            return 0\n",
    "\n",
    "    def has_item(self, item):\n",
    "        return item in self._items\n",
    "\n",
    "    def show_items(self, sorted_list=False):\n",
    "        if sorted_list:\n",
    "            print(sorted(self._items))\n",
    "        else:\n",
    "            print(self._items)\n",
    "\n",
    "\n",
    "my_backpack = Backpack()\n",
    "\n",
    "print(my_backpack.items)\n",
    "my_backpack.add_multiple_items([\"Water Bottle\", \"Candy\"])\n",
    "print(my_backpack.items)\n"
   ]
  },
  {
   "cell_type": "markdown",
   "metadata": {},
   "source": [
    "# Method chaining"
   ]
  },
  {
   "cell_type": "code",
   "execution_count": 16,
   "metadata": {},
   "outputs": [],
   "source": [
    "class Pizza:\n",
    "     \n",
    "  def __init__(self):\n",
    "      self.toppings = []\n",
    "\n",
    "  def add_topping(self, topping):\n",
    "      self.toppings.append(topping.lower())\n",
    "      return self\n",
    "\n",
    "  def display_toppings(self):\n",
    "      print(\"This Pizza has:\")\n",
    "      for topping in self.toppings:\n",
    "          print(topping.capitalize()) "
   ]
  },
  {
   "cell_type": "code",
   "execution_count": 20,
   "metadata": {},
   "outputs": [
    {
     "name": "stdout",
     "output_type": "stream",
     "text": [
      "This Pizza has:\n",
      "Mushrooms\n",
      "Olives\n",
      "Chicken\n"
     ]
    }
   ],
   "source": [
    "pizza = Pizza()\n",
    "pizza.add_topping(\"mushrooms\").add_topping(\"olives\") \\\n",
    "        .add_topping(\"chicken\").display_toppings()"
   ]
  },
  {
   "cell_type": "code",
   "execution_count": 21,
   "metadata": {},
   "outputs": [
    {
     "name": "stdout",
     "output_type": "stream",
     "text": [
      "Student: Gino who is 15 years old and is taking ['Piano', 'Guitar']\n",
      "Student: Talina who is 28 years old and is taking ['Cello']\n",
      "Student: Eric who is 12 years old and is taking ['Singing']\n",
      "Student: Gino who is 15 years old and is taking ['Piano', 'Guitar']\n"
     ]
    }
   ],
   "source": [
    "class MusicSchool:\n",
    "\n",
    "    students = {\"Gino\":   [15, \"653-235-345\", [\"Piano\", \"Guitar\"]],\n",
    "                \"Talina\": [28, \"555-765-452\", [\"Cello\"]],\n",
    "                \"Eric\":   [12, \"583-356-223\", [\"Singing\"]]}\n",
    "\n",
    "    def __init__(self, working_hours, revenue):\n",
    "        self.working_hours = working_hours\n",
    "        self.revenue = revenue\n",
    "\n",
    "    # Add your methods below this line\n",
    "\n",
    "    def print_students_data(self):\n",
    "        for name in MusicSchool.students:\n",
    "            self.print_student(name)\n",
    "\n",
    "    def print_student(self, name):\n",
    "        data = MusicSchool.students[name]\n",
    "        print(\"Student: \" + name + \" who is \" + str(data[0]) + \" years old and is taking \" + str(data[2]))\n",
    "        \n",
    "    def add_student(self, name, data):\n",
    "            MusicSchool.students[name] = data\n",
    "\n",
    "headquarters = MusicSchool(8, 15000)\n",
    "\n",
    "headquarters.print_students_data()\n",
    "\n",
    "headquarters.print_student(\"Gino\")\n",
    "\n",
    "headquarters.add_student(\"Jack\", [60, \"562-234-234\", [\"Piano\"]])"
   ]
  }
 ],
 "metadata": {
  "kernelspec": {
   "display_name": "Python 3.10.5 64-bit (windows store)",
   "language": "python",
   "name": "python3"
  },
  "language_info": {
   "codemirror_mode": {
    "name": "ipython",
    "version": 3
   },
   "file_extension": ".py",
   "mimetype": "text/x-python",
   "name": "python",
   "nbconvert_exporter": "python",
   "pygments_lexer": "ipython3",
   "version": "3.10.5"
  },
  "orig_nbformat": 4,
  "vscode": {
   "interpreter": {
    "hash": "3822405be9f5fb329f7270cbdcf73e762c62b3f383c5e71390a1a4648678c1cb"
   }
  }
 },
 "nbformat": 4,
 "nbformat_minor": 2
}
