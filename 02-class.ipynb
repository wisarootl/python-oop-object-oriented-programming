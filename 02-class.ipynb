{
 "cells": [
  {
   "cell_type": "markdown",
   "metadata": {},
   "source": [
    "# Class"
   ]
  },
  {
   "cell_type": "markdown",
   "metadata": {},
   "source": [
    "## class header"
   ]
  },
  {
   "cell_type": "code",
   "execution_count": 1,
   "metadata": {},
   "outputs": [],
   "source": [
    "class ClassName:\n",
    "  pass\n"
   ]
  },
  {
   "cell_type": "markdown",
   "metadata": {},
   "source": [
    "## class elements\n",
    "- class attributes\n",
    "- __init__()\n",
    "- methods"
   ]
  },
  {
   "cell_type": "code",
   "execution_count": 2,
   "metadata": {},
   "outputs": [
    {
     "ename": "SyntaxError",
     "evalue": "incomplete input (3453877167.py, line 6)",
     "output_type": "error",
     "traceback": [
      "\u001b[1;36m  Input \u001b[1;32mIn [2]\u001b[1;36m\u001b[0m\n\u001b[1;33m    # methods\u001b[0m\n\u001b[1;37m             ^\u001b[0m\n\u001b[1;31mSyntaxError\u001b[0m\u001b[1;31m:\u001b[0m incomplete input\n"
     ]
    }
   ],
   "source": [
    "class ClassName:\n",
    "  pass\n",
    "  # class attributes\n",
    "\n",
    "  # __init__()\n",
    "\n",
    "  # methods"
   ]
  },
  {
   "cell_type": "markdown",
   "metadata": {},
   "source": [
    "## Identifying Classes in a Problem Description\n",
    "\n",
    "- write a problem statement\n",
    "- look an noun in the problem statement. they can be class"
   ]
  },
  {
   "cell_type": "markdown",
   "metadata": {},
   "source": [
    "### example problem statement and class identification\n",
    "\n",
    "Our shelter takes care of **dogs**, **cats**, **parrots**, **lizards**, and **snakes**. Six **employees** work for the **shelter** and **volunteers** help the staff. The shelter regularly receives **donations** and the **donors** are registered in the system. \n",
    "\n",
    "\n",
    "Potential Class\n",
    "- Animal : `Dog`, `Cat`, `Parrot`, `Lizard`, `Snake`\n",
    "- People : `Employee`, `Volunteer`, `Donor`\n",
    "\n",
    "- class name is singular"
   ]
  },
  {
   "cell_type": "markdown",
   "metadata": {},
   "source": [
    "## Mini project\n"
   ]
  },
  {
   "cell_type": "markdown",
   "metadata": {},
   "source": [
    "Identify 3 classes that could be included in a system designed for a:\n",
    "- Small Bank.\n",
    "- Donut Shop.\n",
    "- Videogame Store\n",
    "\n",
    "Think about the objects and entities that a system works with in these scenarios. For example, stores need to represent employees, products, and clients in their system and these are represented using classes. A Pizza store might represent a Pizza using a class and an Employee using another class."
   ]
  },
  {
   "cell_type": "markdown",
   "metadata": {},
   "source": [
    "Small Bank : Employee, Manager, Client, SavingsAccount, CheckingAccount, CreditCard\n",
    "Donut Shop : Donut, Employee, Manager, Client, Soda, Topping\n",
    "Videogame Store : Videogame, Employee, Manager, Client, SimulationGame, PlatformGame"
   ]
  }
 ],
 "metadata": {
  "kernelspec": {
   "display_name": "Python 3.10.5 64-bit (windows store)",
   "language": "python",
   "name": "python3"
  },
  "language_info": {
   "codemirror_mode": {
    "name": "ipython",
    "version": 3
   },
   "file_extension": ".py",
   "mimetype": "text/x-python",
   "name": "python",
   "nbconvert_exporter": "python",
   "pygments_lexer": "ipython3",
   "version": "3.10.5"
  },
  "orig_nbformat": 4,
  "vscode": {
   "interpreter": {
    "hash": "3822405be9f5fb329f7270cbdcf73e762c62b3f383c5e71390a1a4648678c1cb"
   }
  }
 },
 "nbformat": 4,
 "nbformat_minor": 2
}
