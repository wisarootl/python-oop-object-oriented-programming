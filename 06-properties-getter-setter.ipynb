{
 "cells": [
  {
   "cell_type": "markdown",
   "metadata": {},
   "source": [
    "# Getter and Setter\n",
    "- protect attributes (non-public attributes) by providing indirect way to access them and modify them\n",
    "- with setter, we can validate the new value before assigning it to attribute"
   ]
  },
  {
   "cell_type": "code",
   "execution_count": 1,
   "metadata": {},
   "outputs": [
    {
     "name": "stdout",
     "output_type": "stream",
     "text": [
      "The Godfather\n",
      "My favorite movie is: The Godfather\n"
     ]
    }
   ],
   "source": [
    "class Movie:\n",
    "\n",
    "    def __init__(self, title, rating):\n",
    "        self._title = title\n",
    "        self.rating = rating\n",
    "\n",
    "    def get_title(self):\n",
    "        return self._title\n",
    "\n",
    "\n",
    "my_movie = Movie(\"The Godfather\", 4.8)\n",
    "\n",
    "# print(my_movie.title) # Throws an error\n",
    "\n",
    "print(my_movie.get_title())\n",
    "print(\"My favorite movie is:\", my_movie.get_title())"
   ]
  },
  {
   "cell_type": "code",
   "execution_count": 3,
   "metadata": {},
   "outputs": [
    {
     "name": "stdout",
     "output_type": "stream",
     "text": [
      "My dog is: Nora\n",
      "Her new name is: Norita\n"
     ]
    }
   ],
   "source": [
    "class Dog:\n",
    "\n",
    "    def __init__(self, name, age):\n",
    "        self._name = name\n",
    "        self.age = age\n",
    "\n",
    "    def get_name(self):\n",
    "        return self._name\n",
    "\n",
    "    def set_name(self, new_name):\n",
    "        # is string? and is alphabet?\n",
    "        if isinstance(new_name, str) and new_name.isalpha():\n",
    "            self._name = new_name\n",
    "        else:\n",
    "            print(\"Please enter a valid name.\")\n",
    "\n",
    "\n",
    "my_dog = Dog(\"Nora\", 8)\n",
    "\n",
    "print(\"My dog is:\", my_dog.get_name())\n",
    "\n",
    "my_dog.set_name(\"Norita\")\n",
    "\n",
    "print(\"Her new name is:\", my_dog.get_name())\n"
   ]
  },
  {
   "cell_type": "code",
   "execution_count": 4,
   "metadata": {},
   "outputs": [
    {
     "name": "stdout",
     "output_type": "stream",
     "text": [
      "[]\n",
      "Please enter a valid list of items.\n",
      "['Water Bottle', 'Sleeping Bag', 'First Aid Kit']\n"
     ]
    }
   ],
   "source": [
    "class Backpack:\n",
    "\n",
    "    def __init__(self):\n",
    "        self._items = []\n",
    "\n",
    "    def get_items(self):\n",
    "        return self._items\n",
    "\n",
    "    def set_items(self, new_items):\n",
    "        if isinstance(new_items, list):\n",
    "            self._items = new_items\n",
    "        else:\n",
    "            print(\"Please enter a valid list of items.\")\n",
    "\n",
    "\n",
    "my_backpack = Backpack()\n",
    "print(my_backpack.get_items())\n",
    "\n",
    "my_backpack.set_items(\"Hello, World!\") # Invalid value\n",
    "my_backpack.set_items([\"Water Bottle\", \"Sleeping Bag\", \"First Aid Kit\"])\n",
    "\n",
    "print(my_backpack.get_items())"
   ]
  },
  {
   "cell_type": "code",
   "execution_count": 5,
   "metadata": {},
   "outputs": [
    {
     "name": "stdout",
     "output_type": "stream",
     "text": [
      "5.0\n",
      "Please enter a valid value for the radius.\n",
      "5.0\n",
      "Please enter a valid value for the radius.\n",
      "5.0\n",
      "10.5\n"
     ]
    }
   ],
   "source": [
    "class Circle:\n",
    "\n",
    "    def __init__(self, radius):\n",
    "        self._radius = radius\n",
    "\n",
    "    def get_radius(self):\n",
    "        return self._radius\n",
    "\n",
    "    def set_radius(self, new_radius):\n",
    "        if isinstance(new_radius, float) and new_radius > 0:\n",
    "            self._radius = new_radius\n",
    "        else:\n",
    "            print(\"Please enter a valid value for the radius.\")\n",
    "\n",
    "\n",
    "my_circle = Circle(5.0)\n",
    "\n",
    "print(my_circle.get_radius())\n",
    "\n",
    "my_circle.set_radius(0) # This will not change the value.\n",
    "print(my_circle.get_radius())\n",
    "\n",
    "my_circle.set_radius(\"Hello, World!\") # This will not change the value.\n",
    "print(my_circle.get_radius())\n",
    "\n",
    "my_circle.set_radius(10.5) # This will change the value.\n",
    "print(my_circle.get_radius())\n"
   ]
  },
  {
   "cell_type": "markdown",
   "metadata": {},
   "source": [
    "# how to use properties"
   ]
  },
  {
   "cell_type": "code",
   "execution_count": 6,
   "metadata": {},
   "outputs": [
    {
     "name": "stdout",
     "output_type": "stream",
     "text": [
      "My dog is 8 years old.\n",
      "One year later...\n",
      "My dog is now 9 years old.\n"
     ]
    }
   ],
   "source": [
    "class Dog:\n",
    "\n",
    "    def __init__(self, age):\n",
    "        self.age = age\n",
    "\n",
    "\n",
    "my_dog = Dog(8)\n",
    "\n",
    "print(f\"My dog is {my_dog.age} years old.\")\n",
    "print(\"One year later...\")\n",
    "\n",
    "my_dog.age += 1\n",
    "\n",
    "print(f\"My dog is now {my_dog.age} years old.\")"
   ]
  },
  {
   "cell_type": "code",
   "execution_count": 8,
   "metadata": {},
   "outputs": [
    {
     "name": "stdout",
     "output_type": "stream",
     "text": [
      "Calling the Getter...\n",
      "My dog is 8 years old.\n",
      "One year later...\n",
      "Calling the Getter...\n",
      "Calling the Setter...\n",
      "Calling the Getter...\n",
      "Now my dog is 9 years old.\n"
     ]
    }
   ],
   "source": [
    "class Dog:\n",
    "\n",
    "    def __init__(self, age):\n",
    "        self._age = age\n",
    "\n",
    "    def get_age(self):\n",
    "        print(\"Calling the Getter...\")\n",
    "        return self._age\n",
    "\n",
    "    def set_age(self, new_age):\n",
    "        print(\"Calling the Setter...\")\n",
    "        if isinstance(new_age, int) and 0 < new_age < 30:\n",
    "            self._age = new_age\n",
    "        else:\n",
    "            print(\"Please enter a valid age.\")\n",
    "\n",
    "    age = property(get_age, set_age)\n",
    "\n",
    "\n",
    "my_dog = Dog(8)\n",
    "\n",
    "print(f\"My dog is {my_dog.age} years old.\")\n",
    "print(\"One year later...\")\n",
    "\n",
    "my_dog.age += 1\n",
    "# my_dog.age = my_dog.age + 1\n",
    "\n",
    "print(f\"Now my dog is {my_dog.age} years old.\")"
   ]
  },
  {
   "cell_type": "code",
   "execution_count": 9,
   "metadata": {},
   "outputs": [
    {
     "name": "stdout",
     "output_type": "stream",
     "text": [
      "10\n",
      "16\n",
      "Please enter a valid radius.\n",
      "16\n",
      "Blue\n",
      "Red\n",
      "Please enter a valid color.\n",
      "Red\n"
     ]
    }
   ],
   "source": [
    "class Circle:\n",
    "    # class constant : similar to class attribute but the value is constant\n",
    "    # the naming convention of class constant is SCREAMING_SNAKE_CASE\n",
    "    VALID_COLORS = {\"Red\", \"Blue\", \"Green\"}\n",
    "\n",
    "    def __init__(self, radius, color):\n",
    "        self._radius = radius\n",
    "        self._color = color\n",
    "\n",
    "    def get_radius(self):\n",
    "        return self._radius\n",
    "\n",
    "    def set_radius(self, new_radius):\n",
    "        if isinstance(new_radius, int) and new_radius > 0:\n",
    "            self._radius = new_radius\n",
    "        else:\n",
    "            print(\"Please enter a valid radius.\")\n",
    "\n",
    "    radius = property(get_radius, set_radius)\n",
    "\n",
    "    def get_color(self):\n",
    "        return self._color\n",
    "\n",
    "    def set_color(self, new_color):\n",
    "        if new_color in Circle.VALID_COLORS:\n",
    "            self._color = new_color\n",
    "        else:\n",
    "            print(\"Please enter a valid color.\")\n",
    "\n",
    "    color = property(get_color, set_color)\n",
    "\n",
    "\n",
    "my_circle = Circle(10, \"Blue\")\n",
    "\n",
    "# Radius\n",
    "print(my_circle.radius)\n",
    "my_circle.radius = 16\n",
    "print(my_circle.radius)\n",
    "\n",
    "my_circle.radius = 0\n",
    "print(my_circle.radius)\n",
    "\n",
    "# Color\n",
    "print(my_circle.color)\n",
    "my_circle.color = \"Red\"\n",
    "print(my_circle.color)\n",
    "\n",
    "my_circle.color = \"White\"\n",
    "print(my_circle.color)"
   ]
  },
  {
   "cell_type": "markdown",
   "metadata": {},
   "source": [
    "# @property decorator\n",
    "- cleaner and more compact\n",
    "- easier to read and understand\n",
    "- avoids calling property() directly"
   ]
  },
  {
   "cell_type": "code",
   "execution_count": 10,
   "metadata": {},
   "outputs": [
    {
     "name": "stdout",
     "output_type": "stream",
     "text": [
      "Calling the getter...\n",
      "4.3\n",
      "Calling the setter...\n",
      "Calling the getter...\n",
      "4.5\n",
      "Calling the setter...\n",
      "Please enter a valid rating.\n",
      "Calling the getter...\n",
      "4.5\n"
     ]
    }
   ],
   "source": [
    "class Movie:\n",
    "\n",
    "    def __init__(self, title, rating):\n",
    "        self.title = title\n",
    "        self._rating = rating\n",
    "\n",
    "    @property\n",
    "    def rating(self):\n",
    "        print(\"Calling the getter...\")\n",
    "        return self._rating\n",
    "    \n",
    "    @rating.setter\n",
    "    def rating(self, new_rating):\n",
    "        print(\"Calling the setter...\")\n",
    "        if 1.0 <= new_rating <= 5.0:\n",
    "            self._rating = new_rating\n",
    "        else:\n",
    "            print(\"Please enter a valid rating.\")\n",
    "\n",
    "\n",
    "favorite_movie = Movie(\"Titanic\", 4.3)\n",
    "print(favorite_movie.rating)\n",
    "\n",
    "favorite_movie.rating = 4.5\n",
    "print(favorite_movie.rating)\n",
    "\n",
    "favorite_movie.rating = -5.6 # Invalid value.\n",
    "print(favorite_movie.rating)"
   ]
  },
  {
   "cell_type": "code",
   "execution_count": 11,
   "metadata": {},
   "outputs": [
    {
     "name": "stdout",
     "output_type": "stream",
     "text": [
      "[]\n",
      "['Water Bottle', 'Sleeping Bag']\n",
      "Please enter a valid list of items.\n",
      "['Water Bottle', 'Sleeping Bag']\n"
     ]
    }
   ],
   "source": [
    "class Backpack:\n",
    "\n",
    "    def __init__(self):\n",
    "        self._items = []\n",
    "\n",
    "    @property\n",
    "    def items(self):\n",
    "        return self._items\n",
    "    \n",
    "    @items.setter\n",
    "    def items(self, new_items):\n",
    "        if isinstance(new_items, list):\n",
    "            self._items = new_items\n",
    "        else:\n",
    "            print(\"Please enter a valid list of items.\")\n",
    "\n",
    "\n",
    "my_backpack = Backpack()\n",
    "print(my_backpack.items)\n",
    "\n",
    "my_backpack.items = [\"Water Bottle\", \"Sleeping Bag\"]\n",
    "print(my_backpack.items)\n",
    "\n",
    "my_backpack.items = \"Hello, World!\" # Invalid value.\n",
    "print(my_backpack.items)\n"
   ]
  },
  {
   "cell_type": "markdown",
   "metadata": {},
   "source": [
    "Note on the Use of Getters, Setters, and Properties\n",
    "\n",
    "- They are Not Always Necessary :\n",
    "\n",
    "  It is important to note that you do not necessarily have to add getters and setters for all your protected attributes. The decision of whether or not to include a getter and/or a setter should be taken after a careful analysis.\n",
    "\n",
    "  If the attribute is only intended to be used and updated within the class, and you cannot foresee any possible scenarios where you might need to access or update an attribute outside of the class, you can omit them.\n",
    "\n",
    "- You Can Create Read-Only Properties\n",
    "\n",
    "  Sometimes an attribute only has to be set when the instance is created and then it is updated automatically using methods that are defined within the class. In this case, you can define read-only properties by only adding a getter (only using @property).\n"
   ]
  },
  {
   "cell_type": "code",
   "execution_count": 12,
   "metadata": {},
   "outputs": [],
   "source": [
    "class BouncyBall:\n",
    "\n",
    "\tdef __init__(self, price, size, brand):\n",
    "\t\tself._price = price\n",
    "\t\tself._size = size\n",
    "\t\tself._brand = brand\n",
    "\n",
    "\tdef get_price(self):\n",
    "\t\treturn self._price\n",
    "\n",
    "\tdef set_price(self, price):\n",
    "                if price > 0:\n",
    "                        self._price = price\n",
    "\n",
    "\tprice = property(get_price, set_price)\n",
    "\n",
    "\tdef get_size(self):\n",
    "\t\treturn self._size\n",
    "\n",
    "\tdef set_size(self, size):\n",
    "                if size in [\"small\", \"medium\", \"large\"]:\n",
    "                        self._size = size\n",
    "\n",
    "\tsize = property(get_size, set_size)\n",
    "\n",
    "\tdef get_brand(self):\n",
    "\t\treturn self._brand\n",
    "\n",
    "\tdef set_brand(self, brand):\n",
    "                if isinstance(brand, str) and brand:\n",
    "                        self._brand = brand\n",
    "\n",
    "\tbrand = property(get_brand, set_brand)"
   ]
  },
  {
   "cell_type": "code",
   "execution_count": 13,
   "metadata": {},
   "outputs": [],
   "source": [
    "class BouncyBall:\n",
    "\n",
    "\tdef __init__(self, price, size, brand):\n",
    "\t\tself._price = price\n",
    "\t\tself._size = size\n",
    "\t\tself._brand = brand\n",
    "\n",
    "\t@property\n",
    "\tdef price(self):\n",
    "\t\treturn self._price\n",
    "\t\n",
    "\t@price.setter\n",
    "\tdef price(self, new_price):\n",
    "                if new_price > 0:\n",
    "                        self._price = new_price\n",
    "\n",
    "\t@property\n",
    "\tdef size(self):\n",
    "\t\treturn self._size\n",
    "\t\n",
    "\t@size.setter\n",
    "\tdef size(self, new_size):\n",
    "                if new_size in [\"small\", \"medium\", \"large\"]:\n",
    "                        self._size = new_size\n",
    "\n",
    "\t@property\n",
    "\tdef brand(self):\n",
    "\t\treturn self._brand\n",
    "\n",
    "\t@brand.setter\n",
    "\tdef brand(self, new_brand):\n",
    "                if isinstance(new_brand, str) and new_brand:\n",
    "                        self._brand = new_brand\n",
    "\n",
    "\n"
   ]
  }
 ],
 "metadata": {
  "kernelspec": {
   "display_name": "Python 3.10.5 64-bit (windows store)",
   "language": "python",
   "name": "python3"
  },
  "language_info": {
   "codemirror_mode": {
    "name": "ipython",
    "version": 3
   },
   "file_extension": ".py",
   "mimetype": "text/x-python",
   "name": "python",
   "nbconvert_exporter": "python",
   "pygments_lexer": "ipython3",
   "version": "3.10.5"
  },
  "orig_nbformat": 4,
  "vscode": {
   "interpreter": {
    "hash": "3822405be9f5fb329f7270cbdcf73e762c62b3f383c5e71390a1a4648678c1cb"
   }
  }
 },
 "nbformat": 4,
 "nbformat_minor": 2
}
