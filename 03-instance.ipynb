{
 "cells": [
  {
   "cell_type": "markdown",
   "metadata": {},
   "source": [
    "instance : an object from the class\n",
    "class ~ abstract while instance ~ concrete"
   ]
  },
  {
   "cell_type": "code",
   "execution_count": 1,
   "metadata": {},
   "outputs": [],
   "source": [
    "class House:\n",
    "\n",
    "  # __init__() is called automatically when an instance is created\n",
    "  def __init__(self, price):\n",
    "    # self.price = instance attribute\n",
    "    self.price = price\n",
    "    pass\n",
    "\n"
   ]
  },
  {
   "cell_type": "code",
   "execution_count": 2,
   "metadata": {},
   "outputs": [],
   "source": [
    "class Backpack:\n",
    "\n",
    "  # self is a generic way of referring to the current instance of the class\n",
    "  # self for instance method\n",
    "  # cls for class method\n",
    "  # class method : can modify only class attribute\n",
    "  # instance method : can modify both instance attribute and class attribute\n",
    "  def __init__(self, color, size):\n",
    "    self.items = []\n",
    "    self.color = color\n",
    "    self.size= size"
   ]
  },
  {
   "cell_type": "code",
   "execution_count": 3,
   "metadata": {},
   "outputs": [],
   "source": [
    "class Circle:\n",
    "\n",
    "  def __init__(self, radius, color):\n",
    "    self.radius = radius\n",
    "    self.color = color"
   ]
  },
  {
   "cell_type": "code",
   "execution_count": 4,
   "metadata": {},
   "outputs": [],
   "source": [
    "class Rectangular:\n",
    "\n",
    "  def __init__(self, length, width):\n",
    "    self.length = length\n",
    "    self.width = width"
   ]
  },
  {
   "cell_type": "code",
   "execution_count": 5,
   "metadata": {},
   "outputs": [],
   "source": [
    "class Movie:\n",
    "\n",
    "  def __init__(self, title, year, language, rating):\n",
    "    self.title = title\n",
    "    self.year = year\n",
    "    self.language = language\n",
    "    self.rating = rating"
   ]
  },
  {
   "cell_type": "code",
   "execution_count": 7,
   "metadata": {},
   "outputs": [
    {
     "name": "stdout",
     "output_type": "stream",
     "text": [
      "<__main__.Backpack object at 0x000001A748BEDB40>\n"
     ]
    }
   ],
   "source": [
    "class Backpack:\n",
    "\n",
    "  def __init__(self):\n",
    "    self.items = []\n",
    "\n",
    "\n",
    "my_backpack = Backpack()\n",
    "print(my_backpack)"
   ]
  },
  {
   "cell_type": "code",
   "execution_count": 8,
   "metadata": {},
   "outputs": [
    {
     "name": "stdout",
     "output_type": "stream",
     "text": [
      "<__main__.Circle object at 0x000001A7492723B0>\n"
     ]
    }
   ],
   "source": [
    "class Circle:\n",
    "\n",
    "  def __init__(self, radius):\n",
    "    self.radius = radius\n",
    "\n",
    "\n",
    "my_circle = Circle(1)\n",
    "print(my_circle)"
   ]
  },
  {
   "cell_type": "code",
   "execution_count": 10,
   "metadata": {},
   "outputs": [
    {
     "name": "stdout",
     "output_type": "stream",
     "text": [
      "<__main__.Rectangular object at 0x000001A748BDBBE0>\n",
      "1\n"
     ]
    }
   ],
   "source": [
    "class Rectangular:\n",
    "\n",
    "  def __init__(self, length, width):\n",
    "    self.length = length\n",
    "    self.width = width\n",
    "\n",
    "my_rectangle = Rectangular(1, 2)\n",
    "print(my_rectangle)\n",
    "print(my_rectangle.length)"
   ]
  },
  {
   "cell_type": "code",
   "execution_count": 11,
   "metadata": {},
   "outputs": [
    {
     "name": "stdout",
     "output_type": "stream",
     "text": [
      "Pride and Prejudice\n",
      "2005\n",
      "English\n",
      "4.8\n"
     ]
    }
   ],
   "source": [
    "class Movie:\n",
    "\n",
    "  def __init__(self, title, year, language, rating):\n",
    "    self.title = title\n",
    "    self.year = year\n",
    "    self.language = language\n",
    "    self.rating = rating\n",
    "\n",
    "\n",
    "favorite_movie = Movie(\"Pride and Prejudice\", 2005, \"English\", 4.8)\n",
    "\n",
    "print(favorite_movie.title)\n",
    "print(favorite_movie.year)\n",
    "print(favorite_movie.language)\n",
    "print(favorite_movie.rating)"
   ]
  },
  {
   "cell_type": "code",
   "execution_count": 12,
   "metadata": {},
   "outputs": [],
   "source": [
    "class Bacteria:\n",
    "\tdef __init__(self, x, y, shape, resistant, is_gram_positive):\n",
    "\t\tself.x = x\n",
    "\t\tself.y = y\n",
    "\t\tself.shape = shape \n",
    "\t\tself.resistant = resistant         # True if resistant to antibiotics; otherwise False.\n",
    "\t\tself.is_gram_positive = is_gram_positive \n",
    "    \n",
    "bacteria1 = Bacteria(50, 60, \"coccus\", True, True)\n",
    "bacteria2 = Bacteria(50, 260, \"bacillus\", False, False)\n",
    "bacteria3 = Bacteria(150, 200, \"tetrad\", True, True)"
   ]
  },
  {
   "cell_type": "code",
   "execution_count": null,
   "metadata": {},
   "outputs": [],
   "source": [
    "class Donut:\n",
    "    def __ini__(self, flavor, toppings, filling, size):\n",
    "        self.flavor = flavor\n",
    "        self.toppings = toppings\n",
    "        self.filling = filling\n",
    "        self.size = size"
   ]
  },
  {
   "cell_type": "code",
   "execution_count": null,
   "metadata": {},
   "outputs": [],
   "source": [
    "class Customer:\n",
    "  def __init__(self, name, age, address, favorite_dessert)\n",
    "    self.name = name\n",
    "    self.age = age\n",
    "    self.address = address\n",
    "    self.favorite_dessert = favorite_dessert"
   ]
  },
  {
   "cell_type": "code",
   "execution_count": null,
   "metadata": {},
   "outputs": [],
   "source": [
    "class Cake:\n",
    "  def __init__(self, flavor, price, quality):\n",
    "    self.flavor = flavor\n",
    "    self.price = price\n",
    "    self.quality = quality"
   ]
  }
 ],
 "metadata": {
  "kernelspec": {
   "display_name": "Python 3.10.5 64-bit (windows store)",
   "language": "python",
   "name": "python3"
  },
  "language_info": {
   "codemirror_mode": {
    "name": "ipython",
    "version": 3
   },
   "file_extension": ".py",
   "mimetype": "text/x-python",
   "name": "python",
   "nbconvert_exporter": "python",
   "pygments_lexer": "ipython3",
   "version": "3.10.5"
  },
  "orig_nbformat": 4,
  "vscode": {
   "interpreter": {
    "hash": "3822405be9f5fb329f7270cbdcf73e762c62b3f383c5e71390a1a4648678c1cb"
   }
  }
 },
 "nbformat": 4,
 "nbformat_minor": 2
}
