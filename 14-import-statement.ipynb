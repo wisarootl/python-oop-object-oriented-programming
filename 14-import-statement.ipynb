{
 "cells": [
  {
   "cell_type": "markdown",
   "metadata": {},
   "source": [
    "# import statement\n",
    "1. standard library imports\n",
    "2. related library imports\n",
    "3. local application/library specific imports"
   ]
  },
  {
   "cell_type": "markdown",
   "metadata": {},
   "source": [
    "import all element in module\n",
    "\n",
    "```python\n",
    "import <module>\n",
    "<module>.<element>\n",
    "```\n",
    "\n",
    "```python\n",
    "import math\n",
    "math.pi\n",
    "```"
   ]
  },
  {
   "cell_type": "code",
   "execution_count": 2,
   "metadata": {},
   "outputs": [],
   "source": [
    "import math\n",
    "\n",
    "class Circle:\n",
    "  \n",
    "  def __init__(self, radius):\n",
    "    self.radius = radius\n",
    "  \n",
    "  def find_area(self):\n",
    "    return math.pi * (self.radius ** 2)"
   ]
  },
  {
   "cell_type": "code",
   "execution_count": 39,
   "metadata": {},
   "outputs": [
    {
     "name": "stdout",
     "output_type": "stream",
     "text": [
      "4\n",
      "5\n"
     ]
    }
   ],
   "source": [
    "import random\n",
    "\n",
    "class Die:\n",
    "\n",
    "  def __init__(self, value):\n",
    "    self.value = value\n",
    "  \n",
    "  def roll_die(self):\n",
    "    random_value = random.randint(1, 6)\n",
    "    self.value = random_value\n",
    "\n",
    "my_die = Die(4)\n",
    "\n",
    "print(my_die.value)\n",
    "my_die.roll_die()\n",
    "print(my_die.value)\n"
   ]
  },
  {
   "cell_type": "markdown",
   "metadata": {},
   "source": [
    "- import specific element\n",
    "\n",
    "```python\n",
    "from <module> import <element>\n",
    "<element>\n",
    "```\n",
    "\n",
    "```python\n",
    "from math import pi\n",
    "pi\n",
    "```"
   ]
  },
  {
   "cell_type": "markdown",
   "metadata": {},
   "source": [
    "- wildcard import\n",
    "\n",
    "```python\n",
    "from <module> import *\n",
    "<element>\n",
    "```"
   ]
  },
  {
   "cell_type": "markdown",
   "metadata": {},
   "source": [
    "- import as new name\n",
    "\n",
    "```python\n",
    "import <module> as <new_name>\n",
    "<new_name>.<element>\n",
    "\n",
    "from <module> import <element> as <new_name_element>\n",
    "<new_name_element>\n",
    "```"
   ]
  },
  {
   "cell_type": "markdown",
   "metadata": {},
   "source": [
    "- Absolute imports\n",
    "  - They contain the full path to your script (python file), starting from the root folder.\n",
    "  - The folders are separated with a period.\n",
    "  - It can be as long as needed.\n",
    "  - Advantage: They are the preferred type of import statement because they clearly show the path to the module.\n",
    "  - Disadvantage: They can be quite long if the project has many subfolders.\n",
    "  \n",
    "```python\n",
    "from <package>.<module> import <module>\n",
    "import <package>.<module>.<function>\n",
    "```"
   ]
  },
  {
   "cell_type": "markdown",
   "metadata": {},
   "source": [
    "- Relative Imports\n",
    "  - The path specifies where the modules are located relative to the current code file.\n",
    "  - The syntax uses leading dots: one dot indicates the directory of the current script. Two dots indicate the parent directory. Three dots indicate the grandfather directory, and so on, one directory per dot.\n",
    "  - For relative imports, the dots can go up to the directory that contains the script that is run.\n",
    "  - Relative imports must always use `from <> import`; `import <>` is always absolute. Of course, absolute imports can use `from <> import` by omitting the leading dots\n",
    "\n",
    "  \n",
    "```python\n",
    "import other\n",
    "from .<module> import <element>\n",
    "from ..<subpackage>.<module> import <element>\n",
    "```"
   ]
  },
  {
   "cell_type": "markdown",
   "metadata": {},
   "source": [
    "- Relative Imports\n"
   ]
  },
  {
   "cell_type": "code",
   "execution_count": null,
   "metadata": {},
   "outputs": [],
   "source": []
  }
 ],
 "metadata": {
  "kernelspec": {
   "display_name": "Python 3.10.5 64-bit (windows store)",
   "language": "python",
   "name": "python3"
  },
  "language_info": {
   "codemirror_mode": {
    "name": "ipython",
    "version": 3
   },
   "file_extension": ".py",
   "mimetype": "text/x-python",
   "name": "python",
   "nbconvert_exporter": "python",
   "pygments_lexer": "ipython3",
   "version": "3.10.5"
  },
  "orig_nbformat": 4,
  "vscode": {
   "interpreter": {
    "hash": "3822405be9f5fb329f7270cbdcf73e762c62b3f383c5e71390a1a4648678c1cb"
   }
  }
 },
 "nbformat": 4,
 "nbformat_minor": 2
}
