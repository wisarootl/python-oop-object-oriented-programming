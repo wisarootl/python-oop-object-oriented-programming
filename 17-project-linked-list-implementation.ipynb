{
 "cells": [
  {
   "cell_type": "markdown",
   "metadata": {},
   "source": [
    "# linked list implementation"
   ]
  },
  {
   "cell_type": "code",
   "execution_count": 1,
   "metadata": {},
   "outputs": [],
   "source": [
    "class Node:\n",
    "    \n",
    "    def __init__(self, value, next_node=None):\n",
    "        self._value = value\n",
    "        self._next = next_node\n",
    "\n",
    "    @property\n",
    "    def value(self):\n",
    "        return self._value\n",
    "\n",
    "    @value.setter\n",
    "    def value(self, new_value):\n",
    "        self._value = new_value\n",
    "\n",
    "    @property\n",
    "    def next(self):\n",
    "        return self._next\n",
    "\n",
    "    @next.setter\n",
    "    def next(self, new_next):\n",
    "        self._next = new_next"
   ]
  },
  {
   "cell_type": "code",
   "execution_count": 2,
   "metadata": {},
   "outputs": [],
   "source": [
    "# from Node import Node\n",
    "\n",
    "class LinkedList:\n",
    "\n",
    "    def __init__(self):\n",
    "        self.head = None\n",
    "\n",
    "    def insert_node(self, value):\n",
    "        new_node = Node(value)\n",
    "\n",
    "        if self.head is None:\n",
    "            self.head = new_node\n",
    "        # implement linked list in sorted order\n",
    "        elif self.head.value >= value:\n",
    "            new_node.next = self.head\n",
    "            self.head = new_node\n",
    "        else:\n",
    "            runner = self.head.next\n",
    "            previous = self.head\n",
    "\n",
    "            while (runner is not None) and (value > runner.value):\n",
    "                previous = runner\n",
    "                runner = runner.next\n",
    "\n",
    "            new_node.next = runner\n",
    "            previous.next = new_node\n",
    "\n",
    "    def print_list_items(self):\n",
    "        if self.head is None:\n",
    "            print(\"Empty\")\n",
    "        else:\n",
    "            runner = self.head\n",
    "            while runner is not None:\n",
    "                print(runner.value, end=\" \")\n",
    "                runner = runner.next\n",
    "            print() \n",
    "\n",
    "    def count_nodes(self):\n",
    "        count = 0\n",
    "        runner = self.head\n",
    "\n",
    "        while runner is not None:\n",
    "            count += 1\n",
    "            runner = runner.next\n",
    "\n",
    "        return count\n",
    "\n",
    "    def count_nodes_recursive(self):\n",
    "        return self.count_nodes_recursive2(self.head)\n",
    "\n",
    "    def count_nodes_recursive2(self, node):\n",
    "        if node is None:\n",
    "            return 0\n",
    "        else:\n",
    "            return 1 +  self.count_nodes_recursive2(node.next)\n",
    "\n",
    "    def find_node(self, target_val):\n",
    "        runner = self.head\n",
    "        while runner is not None:\n",
    "            if runner.value == target_val:\n",
    "                return True\n",
    "            runner = runner.next\n",
    "        return False\n",
    "\n",
    "    def delete_node(self, target_val):\n",
    "        if self.head is None:\n",
    "            return False\n",
    "        elif self.head.value == target_val:\n",
    "            self.head = self.head.next\n",
    "            return True\n",
    "        else:\n",
    "            runner = self.head.next\n",
    "            previous = self.head\n",
    "\n",
    "            while (runner is not None) and (target_val > runner.value):\n",
    "                previous = runner\n",
    "                runner = runner.next\n",
    "\n",
    "            if runner is not None and runner.value == target_val:\n",
    "                previous.next = runner.next\n",
    "                return True\n",
    "            else:\n",
    "                return False"
   ]
  },
  {
   "cell_type": "code",
   "execution_count": 3,
   "metadata": {},
   "outputs": [
    {
     "name": "stdout",
     "output_type": "stream",
     "text": [
      "3 6 9 15 \n"
     ]
    }
   ],
   "source": [
    "my_linked_list = LinkedList()\n",
    "my_linked_list.insert_node(9)\n",
    "my_linked_list.insert_node(3)\n",
    "my_linked_list.insert_node(6)\n",
    "my_linked_list.insert_node(15)\n",
    "\n",
    "my_linked_list.print_list_items()"
   ]
  },
  {
   "cell_type": "code",
   "execution_count": 4,
   "metadata": {},
   "outputs": [
    {
     "data": {
      "text/plain": [
       "4"
      ]
     },
     "execution_count": 4,
     "metadata": {},
     "output_type": "execute_result"
    }
   ],
   "source": [
    "my_linked_list.count_nodes()"
   ]
  },
  {
   "cell_type": "code",
   "execution_count": 5,
   "metadata": {},
   "outputs": [
    {
     "data": {
      "text/plain": [
       "4"
      ]
     },
     "execution_count": 5,
     "metadata": {},
     "output_type": "execute_result"
    }
   ],
   "source": [
    "my_linked_list.count_nodes_recursive()"
   ]
  },
  {
   "cell_type": "code",
   "execution_count": 6,
   "metadata": {},
   "outputs": [
    {
     "data": {
      "text/plain": [
       "True"
      ]
     },
     "execution_count": 6,
     "metadata": {},
     "output_type": "execute_result"
    }
   ],
   "source": [
    "my_linked_list.find_node(6)"
   ]
  },
  {
   "cell_type": "code",
   "execution_count": 7,
   "metadata": {},
   "outputs": [
    {
     "data": {
      "text/plain": [
       "False"
      ]
     },
     "execution_count": 7,
     "metadata": {},
     "output_type": "execute_result"
    }
   ],
   "source": [
    "my_linked_list.find_node(14)"
   ]
  },
  {
   "cell_type": "code",
   "execution_count": 8,
   "metadata": {},
   "outputs": [
    {
     "name": "stdout",
     "output_type": "stream",
     "text": [
      "3 6 9 15 \n",
      "True\n",
      "3 9 15 \n"
     ]
    }
   ],
   "source": [
    "my_linked_list.print_list_items()\n",
    "print(my_linked_list.delete_node(6))\n",
    "my_linked_list.print_list_items()"
   ]
  },
  {
   "cell_type": "code",
   "execution_count": 9,
   "metadata": {},
   "outputs": [
    {
     "name": "stdout",
     "output_type": "stream",
     "text": [
      "3 9 15 \n",
      "True\n",
      "9 15 \n"
     ]
    }
   ],
   "source": [
    "my_linked_list.print_list_items()\n",
    "print(my_linked_list.delete_node(3))\n",
    "my_linked_list.print_list_items()"
   ]
  },
  {
   "cell_type": "code",
   "execution_count": 10,
   "metadata": {},
   "outputs": [
    {
     "name": "stdout",
     "output_type": "stream",
     "text": [
      "9 15 \n",
      "True\n",
      "9 \n"
     ]
    }
   ],
   "source": [
    "my_linked_list.print_list_items()\n",
    "print(my_linked_list.delete_node(15))\n",
    "my_linked_list.print_list_items()"
   ]
  }
 ],
 "metadata": {
  "kernelspec": {
   "display_name": "Python 3.10.5 64-bit (windows store)",
   "language": "python",
   "name": "python3"
  },
  "language_info": {
   "codemirror_mode": {
    "name": "ipython",
    "version": 3
   },
   "file_extension": ".py",
   "mimetype": "text/x-python",
   "name": "python",
   "nbconvert_exporter": "python",
   "pygments_lexer": "ipython3",
   "version": "3.10.5"
  },
  "orig_nbformat": 4,
  "vscode": {
   "interpreter": {
    "hash": "3822405be9f5fb329f7270cbdcf73e762c62b3f383c5e71390a1a4648678c1cb"
   }
  }
 },
 "nbformat": 4,
 "nbformat_minor": 2
}
