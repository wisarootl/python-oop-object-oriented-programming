{
 "cells": [
  {
   "cell_type": "markdown",
   "metadata": {},
   "source": [
    "# Docstring\n",
    "\n",
    "```python\n",
    "\"\"\"triple double quotes /n\"\"\"\n",
    "r\"\"\"raw triple double quotes /n\"\"\" # if use backslashes (\\)\n",
    "u\"\"\"raw triple double quotes /n\"\"\"\n",
    "```\n",
    "\n",
    "- `docstring` are linked to the element they describe while `comment` are not linked to any part of the code"
   ]
  },
  {
   "cell_type": "code",
   "execution_count": 6,
   "metadata": {},
   "outputs": [
    {
     "name": "stdout",
     "output_type": "stream",
     "text": [
      "triple double quotes \n",
      " test\n",
      "triple double quotes \\n test\n",
      "triple double quotes \n",
      " test\n"
     ]
    }
   ],
   "source": [
    "x = \"\"\"triple double quotes \\n test\"\"\"\n",
    "print(x)\n",
    "x = r\"\"\"triple double quotes \\n test\"\"\"\n",
    "print(x)\n",
    "x = u\"\"\"triple double quotes \\n test\"\"\"\n",
    "print(x)"
   ]
  },
  {
   "cell_type": "markdown",
   "metadata": {},
   "source": [
    "- one-line docstring\n",
    "  - use triple double quotes.\n",
    "  - closing quotes on the same line as opening quotes.\n",
    "  - end the line with a period(.).\n",
    "  - write the effect as command.\n",
    "  - no blank line before or after.\n",
    "  - mention return value."
   ]
  },
  {
   "cell_type": "code",
   "execution_count": 10,
   "metadata": {},
   "outputs": [],
   "source": [
    "def add(a, b):\n",
    "  \"\"\"Return the sum of a and b.\"\"\"\n",
    "  return a + b"
   ]
  },
  {
   "cell_type": "code",
   "execution_count": 11,
   "metadata": {},
   "outputs": [],
   "source": [
    "def print_floyds_triangle(n):\n",
    "  \"\"\"Print Floyd's Triangle with n rows.\"\"\"\n",
    "  count = 1\n",
    "\n",
    "  for i in range(1, n+1):\n",
    "    for j in range(i):\n",
    "      print(count, end=\" \")\n",
    "      count += 1\n",
    "    print()"
   ]
  },
  {
   "cell_type": "markdown",
   "metadata": {},
   "source": [
    "- multi-line docstrings\n",
    "  - summary line\n",
    "  - blank line\n",
    "  - more elaborate description"
   ]
  },
  {
   "cell_type": "markdown",
   "metadata": {},
   "source": [
    "# docstring for methods and functions\n",
    "- arguments\n",
    "- optional arguments\n",
    "- return value\n",
    "- side effect (e.g. mutation)\n",
    "- exceptions that might raised"
   ]
  },
  {
   "cell_type": "code",
   "execution_count": null,
   "metadata": {},
   "outputs": [],
   "source": [
    "def make_frequency_dict(sequence):\n",
    "    \"\"\"\n",
    "    Return a dictionary that maps each element in sequence to its frequency.\n",
    "\n",
    "    Create a dictionary that maps each element in the list sequence to the number of times the element occurs \n",
    "    in the list. The element will be the key of the key-value pair in the dictionary and its frequency will be \n",
    "    the value of the key-value pair\n",
    "\n",
    "    Argument:\n",
    "      sequence: A list of values. These values have to be of an immutable data type because they will be assigned \n",
    "        as the keys of the dictionary. For example, they can be integers, booleans, tuples, or strings.\n",
    "    \n",
    "    Return:\n",
    "      A dictionary that maps each element in the list to its frequency. For example, this function call:\n",
    "\n",
    "      make_frequency_dict([1, 6, 2, 6, 2])\n",
    "\n",
    "      return this dictionary:\n",
    "\n",
    "      {1: 1, 6: 2}\n",
    "\n",
    "    Raise:\n",
    "      ValueError: if the list is empty\n",
    "    \"\"\"\n",
    "    if not sequence:\n",
    "        raise ValueError(\"The list cannot be empty\")\n",
    "\n",
    "    freq = {}\n",
    "\n",
    "    for elem in sequence:\n",
    "        if elem not in freq:\n",
    "            freq[elem] = 1\n",
    "        else:\n",
    "            freq[elem] += 1\n",
    "\n",
    "    return freq\n"
   ]
  },
  {
   "cell_type": "markdown",
   "metadata": {},
   "source": [
    "# docstring for classes\n",
    "- what the class represents\n",
    "- public methods\n",
    "- class and instance variables\n",
    "- effects of inheritance\n"
   ]
  },
  {
   "cell_type": "code",
   "execution_count": null,
   "metadata": {},
   "outputs": [],
   "source": [
    "class Backpack:\n",
    "  \"\"\"\n",
    "  A class that represents a Backpack.\n",
    "\n",
    "  Attribute:\n",
    "    items (list): the list of items in the backpack (initially empty).\n",
    "\n",
    "  Methods:\n",
    "    add_item(self, item):\n",
    "      Add the item to the backpack.\n",
    "    remove_item(self, item):\n",
    "      Remove the item from the backpack.\n",
    "    has_item(self, item):\n",
    "      Return True if the item is in the backpack. Else, return False.\n",
    "  \"\"\"\n",
    "  def __init__(self):\n",
    "    self.items = []\n",
    "\n",
    "  def add_item(self, item):\n",
    "    self.items.append(item)\n",
    "\n",
    "  def remove_item(self, item):\n",
    "    if item in self.items:\n",
    "      self.items.remove(item)\n",
    "    else:\n",
    "      print(\"This item is not in the backpack\")\n",
    "    \n",
    "  def has_item(self, item):\n",
    "    return item in self.items\n",
    "\n"
   ]
  },
  {
   "cell_type": "code",
   "execution_count": 13,
   "metadata": {},
   "outputs": [],
   "source": [
    "import math\n",
    "\n",
    "\n",
    "class Circle:\n",
    "    \"\"\"\n",
    "    A class that represents a circle.\n",
    "\n",
    "    Attributes:\n",
    "        radius (float): the distance from the center of the circle\n",
    "            to its circumference.\n",
    "        color (string): the color of the circle.\n",
    "        diameter (float): the distance through the center of the circle\n",
    "            from one side to the other.\n",
    "\n",
    "    Methods:\n",
    "        find_area(self):\n",
    "            Return the area of the circle.\n",
    "        find_perimeter(self):\n",
    "            Return the perimeter of the circle.\n",
    "    \"\"\"\n",
    "\n",
    "    def __init__(self, radius, color):\n",
    "        \"\"\"Initialize an instance of Circle.\n",
    "\n",
    "        Arguments:\n",
    "            radius (float): the distance from the center\n",
    "                of the circle to its circumference.\n",
    "            color (string): the color of the circle.\n",
    "        \"\"\"\n",
    "        self._radius = radius\n",
    "        self._color = color\n",
    "\n",
    "    @property\n",
    "    def radius(self):\n",
    "        \"\"\"Return the radius of the circle.\n",
    "\n",
    "        This is a float that represents the distance from\n",
    "        the center of the circle to its circumference.\"\"\"\n",
    "        return self._radius\n",
    "\n",
    "    @property\n",
    "    def color(self):\n",
    "        \"\"\"Return the color of the circle.\n",
    "\n",
    "        The color is described by a string that must be capitalized.\n",
    "        For example: \"Red\", \"Blue\", \"Green\", \"Yellow\".\n",
    "        \"\"\"\n",
    "        return self._color\n",
    "\n",
    "    @color.setter\n",
    "    def color(self, new_color):\n",
    "        self._color = new_color\n",
    "\n",
    "    @property\n",
    "    def diameter(self):\n",
    "        \"\"\"Return the diameter of the circle.\n",
    "\n",
    "        This is a float that represents the distance through\n",
    "        the center of the circle from one side to the other.\n",
    "        \"\"\"\n",
    "        return 2 * self._radius\n",
    "\n",
    "    def find_area(self):\n",
    "        \"\"\"Find and return the area of a circle.\n",
    "\n",
    "        The area is calculated with the circle radius\n",
    "        using the formula Pi * (radius ** 2).\n",
    "        \"\"\"\n",
    "        return math.pi * (self._radius ** 2)\n",
    "\n",
    "    def find_perimeter(self):\n",
    "        \"\"\"Find and return the perimeter of a circle.\n",
    "\n",
    "        The perimeter is calculated with the circle radius\n",
    "        using the formula (2 * Pi * radius).\n",
    "        \"\"\"\n",
    "        return 2 * math.pi * self._radius\n"
   ]
  },
  {
   "cell_type": "code",
   "execution_count": 14,
   "metadata": {},
   "outputs": [
    {
     "name": "stdout",
     "output_type": "stream",
     "text": [
      "Help on class Circle in module __main__:\n",
      "\n",
      "class Circle(builtins.object)\n",
      " |  Circle(radius, color)\n",
      " |  \n",
      " |  A class that represents a circle.\n",
      " |  \n",
      " |  Attributes:\n",
      " |      radius (float): the distance from the center of the circle\n",
      " |          to its circumference.\n",
      " |      color (string): the color of the circle.\n",
      " |      diameter (float): the distance through the center of the circle\n",
      " |          from one side to the other.\n",
      " |  \n",
      " |  Methods:\n",
      " |      find_area(self):\n",
      " |          Return the area of the circle.\n",
      " |      find_perimeter(self):\n",
      " |          Return the perimeter of the circle.\n",
      " |  \n",
      " |  Methods defined here:\n",
      " |  \n",
      " |  __init__(self, radius, color)\n",
      " |      Initialize an instance of Circle.\n",
      " |      \n",
      " |      Arguments:\n",
      " |          radius (float): the distance from the center\n",
      " |              of the circle to its circumference.\n",
      " |          color (string): the color of the circle.\n",
      " |  \n",
      " |  find_area(self)\n",
      " |      Find and return the area of a circle.\n",
      " |      \n",
      " |      The area is calculated with the circle radius\n",
      " |      using the formula Pi * (radius ** 2).\n",
      " |  \n",
      " |  find_perimeter(self)\n",
      " |      Find and return the perimeter of a circle.\n",
      " |      \n",
      " |      The perimeter is calculated with the circle radius\n",
      " |      using the formula (2 * Pi * radius).\n",
      " |  \n",
      " |  ----------------------------------------------------------------------\n",
      " |  Readonly properties defined here:\n",
      " |  \n",
      " |  diameter\n",
      " |      Return the diameter of the circle.\n",
      " |      \n",
      " |      This is a float that represents the distance through\n",
      " |      the center of the circle from one side to the other.\n",
      " |  \n",
      " |  radius\n",
      " |      Return the radius of the circle.\n",
      " |      \n",
      " |      This is a float that represents the distance from\n",
      " |      the center of the circle to its circumference.\n",
      " |  \n",
      " |  ----------------------------------------------------------------------\n",
      " |  Data descriptors defined here:\n",
      " |  \n",
      " |  __dict__\n",
      " |      dictionary for instance variables (if defined)\n",
      " |  \n",
      " |  __weakref__\n",
      " |      list of weak references to the object (if defined)\n",
      " |  \n",
      " |  color\n",
      " |      Return the color of the circle.\n",
      " |      \n",
      " |      The color is described by a string that must be capitalized.\n",
      " |      For example: \"Red\", \"Blue\", \"Green\", \"Yellow\".\n",
      "\n"
     ]
    }
   ],
   "source": [
    "help(Circle)"
   ]
  },
  {
   "cell_type": "code",
   "execution_count": 15,
   "metadata": {},
   "outputs": [
    {
     "name": "stdout",
     "output_type": "stream",
     "text": [
      "\n",
      "    A class that represents a circle.\n",
      "\n",
      "    Attributes:\n",
      "        radius (float): the distance from the center of the circle\n",
      "            to its circumference.\n",
      "        color (string): the color of the circle.\n",
      "        diameter (float): the distance through the center of the circle\n",
      "            from one side to the other.\n",
      "\n",
      "    Methods:\n",
      "        find_area(self):\n",
      "            Return the area of the circle.\n",
      "        find_perimeter(self):\n",
      "            Return the perimeter of the circle.\n",
      "    \n"
     ]
    }
   ],
   "source": [
    "print(Circle.__doc__)"
   ]
  },
  {
   "cell_type": "markdown",
   "metadata": {},
   "source": [
    "# Docstring Styles\n",
    "- [Sphinx Style](https://sphinx-rtd-tutorial.readthedocs.io/en/latest/docstrings.html#the-sphinx-docstring-format)\n",
    "- [Google Style](https://google.github.io/styleguide/pyguide.html#38-comments-and-docstrings)\n",
    "- [Numpy Style](https://numpydoc.readthedocs.io/en/latest/format.html#docstring-standard)"
   ]
  },
  {
   "cell_type": "markdown",
   "metadata": {},
   "source": [
    "# help() and __doc__"
   ]
  },
  {
   "cell_type": "code",
   "execution_count": 17,
   "metadata": {},
   "outputs": [
    {
     "name": "stdout",
     "output_type": "stream",
     "text": [
      "Help on built-in function len in module builtins:\n",
      "\n",
      "len(obj, /)\n",
      "    Return the number of items in a container.\n",
      "\n"
     ]
    }
   ],
   "source": [
    "help(len)"
   ]
  },
  {
   "cell_type": "code",
   "execution_count": 18,
   "metadata": {},
   "outputs": [
    {
     "name": "stdout",
     "output_type": "stream",
     "text": [
      "Return the number of items in a container.\n"
     ]
    }
   ],
   "source": [
    "print(len.__doc__)"
   ]
  },
  {
   "cell_type": "code",
   "execution_count": 19,
   "metadata": {},
   "outputs": [
    {
     "name": "stdout",
     "output_type": "stream",
     "text": [
      "Help on method_descriptor:\n",
      "\n",
      "sort(self, /, *, key=None, reverse=False)\n",
      "    Sort the list in ascending order and return None.\n",
      "    \n",
      "    The sort is in-place (i.e. the list itself is modified) and stable (i.e. the\n",
      "    order of two equal elements is maintained).\n",
      "    \n",
      "    If a key function is given, apply it once to each list item and sort them,\n",
      "    ascending or descending, according to their function values.\n",
      "    \n",
      "    The reverse flag can be set to sort in descending order.\n",
      "\n"
     ]
    }
   ],
   "source": [
    "help(list.sort)"
   ]
  },
  {
   "cell_type": "code",
   "execution_count": 20,
   "metadata": {},
   "outputs": [
    {
     "name": "stdout",
     "output_type": "stream",
     "text": [
      "Sort the list in ascending order and return None.\n",
      "\n",
      "The sort is in-place (i.e. the list itself is modified) and stable (i.e. the\n",
      "order of two equal elements is maintained).\n",
      "\n",
      "If a key function is given, apply it once to each list item and sort them,\n",
      "ascending or descending, according to their function values.\n",
      "\n",
      "The reverse flag can be set to sort in descending order.\n"
     ]
    }
   ],
   "source": [
    "print(list.sort.__doc__)"
   ]
  },
  {
   "cell_type": "code",
   "execution_count": 21,
   "metadata": {},
   "outputs": [
    {
     "name": "stdout",
     "output_type": "stream",
     "text": [
      "Return the sum of a and b.\n"
     ]
    }
   ],
   "source": [
    "def add(a, b):\n",
    "    \"\"\"Return the sum of a and b.\"\"\"\n",
    "    return a + b\n",
    "\n",
    "print(add.__doc__)"
   ]
  },
  {
   "cell_type": "code",
   "execution_count": 22,
   "metadata": {},
   "outputs": [
    {
     "name": "stdout",
     "output_type": "stream",
     "text": [
      "Help on function add in module __main__:\n",
      "\n",
      "add(a, b)\n",
      "    Return the sum of a and b.\n",
      "\n"
     ]
    }
   ],
   "source": [
    "help(add)"
   ]
  },
  {
   "cell_type": "code",
   "execution_count": 23,
   "metadata": {},
   "outputs": [
    {
     "name": "stdout",
     "output_type": "stream",
     "text": [
      "Help on method_descriptor:\n",
      "\n",
      "count(self, value, /)\n",
      "    Return number of occurrences of value.\n",
      "\n"
     ]
    }
   ],
   "source": [
    "help(tuple.count)"
   ]
  },
  {
   "cell_type": "code",
   "execution_count": 24,
   "metadata": {},
   "outputs": [
    {
     "name": "stdout",
     "output_type": "stream",
     "text": [
      "Help on method_descriptor:\n",
      "\n",
      "capitalize(self, /)\n",
      "    Return a capitalized version of the string.\n",
      "    \n",
      "    More specifically, make the first character have upper case and the rest lower\n",
      "    case.\n",
      "\n"
     ]
    }
   ],
   "source": [
    "help(str.capitalize)"
   ]
  },
  {
   "cell_type": "code",
   "execution_count": 25,
   "metadata": {},
   "outputs": [
    {
     "name": "stdout",
     "output_type": "stream",
     "text": [
      "Sort the list in ascending order and return None.\n",
      "\n",
      "The sort is in-place (i.e. the list itself is modified) and stable (i.e. the\n",
      "order of two equal elements is maintained).\n",
      "\n",
      "If a key function is given, apply it once to each list item and sort them,\n",
      "ascending or descending, according to their function values.\n",
      "\n",
      "The reverse flag can be set to sort in descending order.\n"
     ]
    }
   ],
   "source": [
    "print(list.sort.__doc__)"
   ]
  },
  {
   "cell_type": "code",
   "execution_count": 31,
   "metadata": {},
   "outputs": [],
   "source": [
    "class Flight:\n",
    "  \"\"\"Class that represents an international Flight.\n",
    "\n",
    "  Attributes:\n",
    "    number (str): the flight number represented as a string.\n",
    "    origin (str): a three-letter abbreviation of the country of origin. e.g. \"USA\".\n",
    "    destination (str):  a three-letter abbreviation of the destination. e.g. \"USA\".\n",
    "    num_passengers (int): an integer that represents the number of passengers that are\n",
    "      currently registered for the flight.\n",
    "\n",
    "  Methods:\n",
    "    display_flight_data(): displays the data of the flight in a user-friendly format.\n",
    "  \"\"\"\n",
    "  def __init__(self, number, origin, destination, num_passengers, total_weight, pilot, crew):\n",
    "    \"\"\"Initializes the values of the instance attributes of Flight.\n",
    "\n",
    "    Args:\n",
    "        number (str): the flight number represented as a string.\n",
    "        origin (str): a three-letter abbreviation of the country of origin. e.g. \"USA\".\n",
    "        destination (str): a three-letter abbreviation of the destination. e.g. \"USA\".\n",
    "        num_passengers (int): an integer that represents the number of passengers that are \n",
    "            currently registered for the flight.\n",
    "        total_weight (float): the approximate weight of the flight including baggage, passengers,\n",
    "            fuel, crew, and other elements.\n",
    "        pilot (Pilot): the pilot assigned to the flight.\n",
    "        crew (list of Crew): the crew assigned to the flight.   \n",
    "    \"\"\"\n",
    "    self.number = number\n",
    "    self.origin = origin\n",
    "    self.destination = destination\n",
    "    self.num_passengers = num_passengers\n",
    "    self._total_weight = total_weight\n",
    "    self._pilot = pilot \n",
    "    self._crew = crew\n",
    "\n",
    "  @property\n",
    "  def total_weight(self):\n",
    "      \"\"\"Total weight of the flight, including luggage, crew, and fuel.\"\"\"\n",
    "      return self._total_weight\n",
    "\n",
    "  @total_weight.setter\n",
    "  def total_weight(self, weight):\n",
    "    if weight > 0 and isinstance(weight, float):\n",
    "      self._total_weight = weight\t\n",
    "\n",
    "  @property\n",
    "  def pilot(self):\n",
    "      \"\"\"Pilot assigned to the flight.\"\"\"\n",
    "      return self._pilot\n",
    "\n",
    "  @pilot.setter\n",
    "  def pilot(self, new_pilot):\n",
    "      self._pilot = new_pilot\n",
    "\n",
    "  @property\n",
    "  def crew(self):\n",
    "      \"\"\"Crew assigned to the flight.\"\"\"\n",
    "      return self._crew\n",
    "  \n",
    "  @crew.setter\n",
    "  def crew(self, new_crew):\n",
    "      self._crew = new_crew\n",
    "\n",
    "  def display_flight_data(self):\n",
    "      \"\"\"Print flight data in a user-friendly format\"\"\"\n",
    "      print(\"== Flight ==\")\n",
    "      print(\"Number:\", self.number)\n",
    "      print(\"Number of Passengers:\", self.num_passengers)\n",
    "      print(\"Weight:\", self.weight)\n",
    "      print(\"Pilot:\", self._pilot)\n",
    "      print(\"Crew:\", self._crew)"
   ]
  },
  {
   "cell_type": "code",
   "execution_count": 32,
   "metadata": {},
   "outputs": [
    {
     "name": "stdout",
     "output_type": "stream",
     "text": [
      "Help on class Flight in module __main__:\n",
      "\n",
      "class Flight(builtins.object)\n",
      " |  Flight(number, origin, destination, num_passengers, total_weight, pilot, crew)\n",
      " |  \n",
      " |  Class that represents an international Flight.\n",
      " |  \n",
      " |  Attributes:\n",
      " |    number (str): the flight number represented as a string.\n",
      " |    origin (str): a three-letter abbreviation of the country of origin. e.g. \"USA\".\n",
      " |    destination (str):  a three-letter abbreviation of the destination. e.g. \"USA\".\n",
      " |    num_passengers (int): an integer that represents the number of passengers that are\n",
      " |      currently registered for the flight.\n",
      " |  \n",
      " |  Methods:\n",
      " |    display_flight_data(): displays the data of the flight in a user-friendly format.\n",
      " |  \n",
      " |  Methods defined here:\n",
      " |  \n",
      " |  __init__(self, number, origin, destination, num_passengers, total_weight, pilot, crew)\n",
      " |      Initializes the values of the instance attributes of Flight.\n",
      " |      \n",
      " |      Args:\n",
      " |          number (str): the flight number represented as a string.\n",
      " |          origin (str): a three-letter abbreviation of the country of origin. e.g. \"USA\".\n",
      " |          destination (str): a three-letter abbreviation of the destination. e.g. \"USA\".\n",
      " |          num_passengers (int): an integer that represents the number of passengers that are \n",
      " |              currently registered for the flight.\n",
      " |          total_weight (float): the approximate weight of the flight including baggage, passengers,\n",
      " |              fuel, crew, and other elements.\n",
      " |          pilot (Pilot): the pilot assigned to the flight.\n",
      " |          crew (list of Crew): the crew assigned to the flight.\n",
      " |  \n",
      " |  display_flight_data(self)\n",
      " |      Print flight data in a user-friendly format\n",
      " |  \n",
      " |  ----------------------------------------------------------------------\n",
      " |  Data descriptors defined here:\n",
      " |  \n",
      " |  __dict__\n",
      " |      dictionary for instance variables (if defined)\n",
      " |  \n",
      " |  __weakref__\n",
      " |      list of weak references to the object (if defined)\n",
      " |  \n",
      " |  crew\n",
      " |      Crew assigned to the flight.\n",
      " |  \n",
      " |  pilot\n",
      " |      Pilot assigned to the flight.\n",
      " |  \n",
      " |  total_weight\n",
      " |      Total weight of the flight, including luggage, crew, and fuel.\n",
      "\n"
     ]
    }
   ],
   "source": [
    "help(Flight)"
   ]
  },
  {
   "cell_type": "code",
   "execution_count": 33,
   "metadata": {},
   "outputs": [
    {
     "name": "stdout",
     "output_type": "stream",
     "text": [
      "Class that represents an international Flight.\n",
      "\n",
      "  Attributes:\n",
      "    number (str): the flight number represented as a string.\n",
      "    origin (str): a three-letter abbreviation of the country of origin. e.g. \"USA\".\n",
      "    destination (str):  a three-letter abbreviation of the destination. e.g. \"USA\".\n",
      "    num_passengers (int): an integer that represents the number of passengers that are\n",
      "      currently registered for the flight.\n",
      "\n",
      "  Methods:\n",
      "    display_flight_data(): displays the data of the flight in a user-friendly format.\n",
      "  \n"
     ]
    }
   ],
   "source": [
    "print(Flight.__doc__)"
   ]
  }
 ],
 "metadata": {
  "kernelspec": {
   "display_name": "Python 3.10.5 64-bit (windows store)",
   "language": "python",
   "name": "python3"
  },
  "language_info": {
   "codemirror_mode": {
    "name": "ipython",
    "version": 3
   },
   "file_extension": ".py",
   "mimetype": "text/x-python",
   "name": "python",
   "nbconvert_exporter": "python",
   "pygments_lexer": "ipython3",
   "version": "3.10.5"
  },
  "orig_nbformat": 4,
  "vscode": {
   "interpreter": {
    "hash": "3822405be9f5fb329f7270cbdcf73e762c62b3f383c5e71390a1a4648678c1cb"
   }
  }
 },
 "nbformat": 4,
 "nbformat_minor": 2
}
